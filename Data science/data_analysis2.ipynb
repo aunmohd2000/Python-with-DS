{
 "cells": [
  {
   "cell_type": "code",
   "execution_count": 4,
   "metadata": {},
   "outputs": [],
   "source": [
    "\n",
    "import pandas as pd\n",
    "import numpy as np\n",
    "import matplotlib.pyplot as plt\n",
    "import os"
   ]
  },
  {
   "cell_type": "code",
   "execution_count": 7,
   "metadata": {},
   "outputs": [
    {
     "name": "stdout",
     "output_type": "stream",
     "text": [
      "<class 'pandas.core.frame.DataFrame'>\n",
      "Int64Index: 528 entries, 0 to 527\n",
      "Data columns (total 3 columns):\n",
      " #   Column  Non-Null Count  Dtype \n",
      "---  ------  --------------  ----- \n",
      " 0   title   528 non-null    object\n",
      " 1   price   528 non-null    object\n",
      " 2   link    528 non-null    object\n",
      "dtypes: object(3)\n",
      "memory usage: 16.5+ KB\n",
      "None\n"
     ]
    }
   ],
   "source": [
    "filepath = 'laptop_data.csv'\n",
    "if not os.path.exists(filepath):\n",
    "    print('File not found')\n",
    "else:\n",
    "    df=pd.read_csv(filepath,index_col=0)\n",
    "    print(df.info())\n",
    "    "
   ]
  },
  {
   "cell_type": "code",
   "execution_count": 14,
   "metadata": {},
   "outputs": [
    {
     "data": {
      "text/html": [
       "<div>\n",
       "<style scoped>\n",
       "    .dataframe tbody tr th:only-of-type {\n",
       "        vertical-align: middle;\n",
       "    }\n",
       "\n",
       "    .dataframe tbody tr th {\n",
       "        vertical-align: top;\n",
       "    }\n",
       "\n",
       "    .dataframe thead th {\n",
       "        text-align: right;\n",
       "    }\n",
       "</style>\n",
       "<table border=\"1\" class=\"dataframe\">\n",
       "  <thead>\n",
       "    <tr style=\"text-align: right;\">\n",
       "      <th></th>\n",
       "      <th>title</th>\n",
       "      <th>price</th>\n",
       "      <th>link</th>\n",
       "    </tr>\n",
       "  </thead>\n",
       "  <tbody>\n",
       "    <tr>\n",
       "      <th>27</th>\n",
       "      <td>MSI Core i9 12th Gen - (32 GB/2 TB SSD/Windows...</td>\n",
       "      <td>₹3,90,990</td>\n",
       "      <td>/msi-core-i9-12th-gen-32-gb-2-tb-ssd-windows-1...</td>\n",
       "    </tr>\n",
       "    <tr>\n",
       "      <th>31</th>\n",
       "      <td>MSI Modern 14 Core i5 10th Gen - (8 GB/512 GB ...</td>\n",
       "      <td>₹41,990</td>\n",
       "      <td>/msi-modern-14-core-i5-10th-gen-8-gb-512-gb-ss...</td>\n",
       "    </tr>\n",
       "    <tr>\n",
       "      <th>39</th>\n",
       "      <td>MSI Bravo 15 Ryzen 5 Hexa Core 5600H - (8 GB/5...</td>\n",
       "      <td>₹49,990</td>\n",
       "      <td>/msi-bravo-15-ryzen-5-hexa-core-5600h-8-gb-512...</td>\n",
       "    </tr>\n",
       "    <tr>\n",
       "      <th>43</th>\n",
       "      <td>Lenovo Ideapad Gaming 3 Ryzen 5 Hexa Core 5600...</td>\n",
       "      <td>₹59,990</td>\n",
       "      <td>/lenovo-ideapad-gaming-3-ryzen-5-hexa-core-560...</td>\n",
       "    </tr>\n",
       "    <tr>\n",
       "      <th>47</th>\n",
       "      <td>MSI Crosshair 15 Core i7 12th Gen - (16 GB/1 T...</td>\n",
       "      <td>₹1,16,990</td>\n",
       "      <td>/msi-crosshair-15-core-i7-12th-gen-16-gb-1-tb-...</td>\n",
       "    </tr>\n",
       "    <tr>\n",
       "      <th>...</th>\n",
       "      <td>...</td>\n",
       "      <td>...</td>\n",
       "      <td>...</td>\n",
       "    </tr>\n",
       "    <tr>\n",
       "      <th>516</th>\n",
       "      <td>ASUS Vivobook Pro 15 OLED Ryzen 7 Octa Core 48...</td>\n",
       "      <td>₹67,990</td>\n",
       "      <td>/asus-vivobook-pro-15-oled-ryzen-7-octa-core-4...</td>\n",
       "    </tr>\n",
       "    <tr>\n",
       "      <th>519</th>\n",
       "      <td>MSI Bravo 15 Ryzen 5 Hexa Core 5600H - (8 GB/5...</td>\n",
       "      <td>₹49,990</td>\n",
       "      <td>/msi-bravo-15-ryzen-5-hexa-core-5600h-8-gb-512...</td>\n",
       "    </tr>\n",
       "    <tr>\n",
       "      <th>523</th>\n",
       "      <td>Lenovo Ideapad Gaming 3 Ryzen 5 Hexa Core 5600...</td>\n",
       "      <td>₹59,990</td>\n",
       "      <td>/lenovo-ideapad-gaming-3-ryzen-5-hexa-core-560...</td>\n",
       "    </tr>\n",
       "    <tr>\n",
       "      <th>526</th>\n",
       "      <td>ASUS ROG Zephyrus G15 (2022) with 90Whr Batter...</td>\n",
       "      <td>₹2,07,990</td>\n",
       "      <td>/asus-rog-zephyrus-g15-2022-90whr-battery-ryze...</td>\n",
       "    </tr>\n",
       "    <tr>\n",
       "      <th>527</th>\n",
       "      <td>MSI Crosshair 15 Core i7 12th Gen - (16 GB/1 T...</td>\n",
       "      <td>₹1,16,990</td>\n",
       "      <td>/msi-crosshair-15-core-i7-12th-gen-16-gb-1-tb-...</td>\n",
       "    </tr>\n",
       "  </tbody>\n",
       "</table>\n",
       "<p>158 rows × 3 columns</p>\n",
       "</div>"
      ],
      "text/plain": [
       "                                                 title      price  \\\n",
       "27   MSI Core i9 12th Gen - (32 GB/2 TB SSD/Windows...  ₹3,90,990   \n",
       "31   MSI Modern 14 Core i5 10th Gen - (8 GB/512 GB ...    ₹41,990   \n",
       "39   MSI Bravo 15 Ryzen 5 Hexa Core 5600H - (8 GB/5...    ₹49,990   \n",
       "43   Lenovo Ideapad Gaming 3 Ryzen 5 Hexa Core 5600...    ₹59,990   \n",
       "47   MSI Crosshair 15 Core i7 12th Gen - (16 GB/1 T...  ₹1,16,990   \n",
       "..                                                 ...        ...   \n",
       "516  ASUS Vivobook Pro 15 OLED Ryzen 7 Octa Core 48...    ₹67,990   \n",
       "519  MSI Bravo 15 Ryzen 5 Hexa Core 5600H - (8 GB/5...    ₹49,990   \n",
       "523  Lenovo Ideapad Gaming 3 Ryzen 5 Hexa Core 5600...    ₹59,990   \n",
       "526  ASUS ROG Zephyrus G15 (2022) with 90Whr Batter...  ₹2,07,990   \n",
       "527  MSI Crosshair 15 Core i7 12th Gen - (16 GB/1 T...  ₹1,16,990   \n",
       "\n",
       "                                                  link  \n",
       "27   /msi-core-i9-12th-gen-32-gb-2-tb-ssd-windows-1...  \n",
       "31   /msi-modern-14-core-i5-10th-gen-8-gb-512-gb-ss...  \n",
       "39   /msi-bravo-15-ryzen-5-hexa-core-5600h-8-gb-512...  \n",
       "43   /lenovo-ideapad-gaming-3-ryzen-5-hexa-core-560...  \n",
       "47   /msi-crosshair-15-core-i7-12th-gen-16-gb-1-tb-...  \n",
       "..                                                 ...  \n",
       "516  /asus-vivobook-pro-15-oled-ryzen-7-octa-core-4...  \n",
       "519  /msi-bravo-15-ryzen-5-hexa-core-5600h-8-gb-512...  \n",
       "523  /lenovo-ideapad-gaming-3-ryzen-5-hexa-core-560...  \n",
       "526  /asus-rog-zephyrus-g15-2022-90whr-battery-ryze...  \n",
       "527  /msi-crosshair-15-core-i7-12th-gen-16-gb-1-tb-...  \n",
       "\n",
       "[158 rows x 3 columns]"
      ]
     },
     "execution_count": 14,
     "metadata": {},
     "output_type": "execute_result"
    }
   ],
   "source": [
    "df[df['title'].duplicated()]"
   ]
  },
  {
   "cell_type": "code",
   "execution_count": 15,
   "metadata": {},
   "outputs": [],
   "source": [
    "# we have to clean price and make it numeric"
   ]
  },
  {
   "cell_type": "markdown",
   "metadata": {},
   "source": [
    "### First let us understand what is a lambda fucntion\n",
    "\n",
    "\n",
    "*In maths*\n",
    "\n",
    "`f(x) = x*2`\n",
    "`f(5) = 10`\n",
    "`f(0.5) = 1`\n",
    "`f(10) = 20`\n",
    "\n",
    "*In Python*\n",
    "\n",
    "`f= lambda x:x*2`\n",
    "`f(5)`\n",
    "`f(20)`"
   ]
  },
  {
   "cell_type": "code",
   "execution_count": null,
   "metadata": {},
   "outputs": [],
   "source": [
    "f = lambda i:i*4\n",
    "print(f(4))\n",
    "g="
   ]
  },
  {
   "cell_type": "code",
   "execution_count": 24,
   "metadata": {},
   "outputs": [],
   "source": [
    "df['price_clean']=df['price'].apply(lambda val: int(val[1:].replace(',','')))"
   ]
  },
  {
   "cell_type": "code",
   "execution_count": 19,
   "metadata": {},
   "outputs": [
    {
     "data": {
      "text/plain": [
       "'3,90,990'"
      ]
     },
     "execution_count": 19,
     "metadata": {},
     "output_type": "execute_result"
    }
   ],
   "source": [
    "#[1:]"
   ]
  },
  {
   "cell_type": "code",
   "execution_count": 20,
   "metadata": {},
   "outputs": [
    {
     "data": {
      "text/plain": [
       "'₹390990'"
      ]
     },
     "execution_count": 20,
     "metadata": {},
     "output_type": "execute_result"
    }
   ],
   "source": [
    "#'₹3,90,990'.replace(',','')"
   ]
  },
  {
   "cell_type": "code",
   "execution_count": 25,
   "metadata": {},
   "outputs": [],
   "source": [
    "df.sort_values(by='price_clean',ascending=False,inplace=True)"
   ]
  },
  {
   "cell_type": "code",
   "execution_count": 26,
   "metadata": {},
   "outputs": [
    {
     "data": {
      "text/html": [
       "<div>\n",
       "<style scoped>\n",
       "    .dataframe tbody tr th:only-of-type {\n",
       "        vertical-align: middle;\n",
       "    }\n",
       "\n",
       "    .dataframe tbody tr th {\n",
       "        vertical-align: top;\n",
       "    }\n",
       "\n",
       "    .dataframe thead th {\n",
       "        text-align: right;\n",
       "    }\n",
       "</style>\n",
       "<table border=\"1\" class=\"dataframe\">\n",
       "  <thead>\n",
       "    <tr style=\"text-align: right;\">\n",
       "      <th></th>\n",
       "      <th>title</th>\n",
       "      <th>price</th>\n",
       "      <th>link</th>\n",
       "      <th>price_clean</th>\n",
       "    </tr>\n",
       "  </thead>\n",
       "  <tbody>\n",
       "    <tr>\n",
       "      <th>317</th>\n",
       "      <td>Infinix INBook X1 Neo Series Celeron Quad Core...</td>\n",
       "      <td>₹22,990</td>\n",
       "      <td>/infinix-inbook-x1-neo-series-celeron-quad-cor...</td>\n",
       "      <td>22990</td>\n",
       "    </tr>\n",
       "    <tr>\n",
       "      <th>188</th>\n",
       "      <td>ASUS (2022) Celeron Dual Core - (4 GB/128 GB S...</td>\n",
       "      <td>₹22,990</td>\n",
       "      <td>/asus-2022-celeron-dual-core-4-gb-128-gb-ssd-w...</td>\n",
       "      <td>22990</td>\n",
       "    </tr>\n",
       "    <tr>\n",
       "      <th>288</th>\n",
       "      <td>Lenovo IdeaPad 1 Celeron Dual Core - (4 GB/256...</td>\n",
       "      <td>₹21,513</td>\n",
       "      <td>/lenovo-ideapad-1-celeron-dual-core-4-gb-256-g...</td>\n",
       "      <td>21513</td>\n",
       "    </tr>\n",
       "    <tr>\n",
       "      <th>485</th>\n",
       "      <td>Avita SATUS ULTIMUS S111 Celeron Dual Core - (...</td>\n",
       "      <td>₹21,490</td>\n",
       "      <td>/avita-satus-ultimus-s111-celeron-dual-core-4-...</td>\n",
       "      <td>21490</td>\n",
       "    </tr>\n",
       "    <tr>\n",
       "      <th>78</th>\n",
       "      <td>Infinix INBook X1 Neo Series Celeron Quad Core...</td>\n",
       "      <td>₹18,990</td>\n",
       "      <td>/infinix-inbook-x1-neo-series-celeron-quad-cor...</td>\n",
       "      <td>18990</td>\n",
       "    </tr>\n",
       "  </tbody>\n",
       "</table>\n",
       "</div>"
      ],
      "text/plain": [
       "                                                 title    price  \\\n",
       "317  Infinix INBook X1 Neo Series Celeron Quad Core...  ₹22,990   \n",
       "188  ASUS (2022) Celeron Dual Core - (4 GB/128 GB S...  ₹22,990   \n",
       "288  Lenovo IdeaPad 1 Celeron Dual Core - (4 GB/256...  ₹21,513   \n",
       "485  Avita SATUS ULTIMUS S111 Celeron Dual Core - (...  ₹21,490   \n",
       "78   Infinix INBook X1 Neo Series Celeron Quad Core...  ₹18,990   \n",
       "\n",
       "                                                  link  price_clean  \n",
       "317  /infinix-inbook-x1-neo-series-celeron-quad-cor...        22990  \n",
       "188  /asus-2022-celeron-dual-core-4-gb-128-gb-ssd-w...        22990  \n",
       "288  /lenovo-ideapad-1-celeron-dual-core-4-gb-256-g...        21513  \n",
       "485  /avita-satus-ultimus-s111-celeron-dual-core-4-...        21490  \n",
       "78   /infinix-inbook-x1-neo-series-celeron-quad-cor...        18990  "
      ]
     },
     "execution_count": 26,
     "metadata": {},
     "output_type": "execute_result"
    }
   ],
   "source": [
    "df.tail()"
   ]
  },
  {
   "cell_type": "code",
   "execution_count": null,
   "metadata": {},
   "outputs": [],
   "source": [
    "def clean_title(title):\n",
    "    return title.split('-')[0].strip() , title,split('-')[1].strip()\n",
    "\n",
    "\n",
    "df[['name','configuration']]= df['title'].apply(clean_title).apply(pd.Series)\n",
    "\n",
    "# Output is returning titles"
   ]
  },
  {
   "cell_type": "code",
   "execution_count": null,
   "metadata": {},
   "outputs": [],
   "source": [
    "def clean_title(title):\n",
    "    return title.split()[0]\n",
    "\n",
    "df['brand']=df['name'].apply(clean_title)"
   ]
  },
  {
   "cell_type": "code",
   "execution_count": null,
   "metadata": {},
   "outputs": [],
   "source": []
  }
 ],
 "metadata": {
  "kernelspec": {
   "display_name": "Python 3.9.12 ('base')",
   "language": "python",
   "name": "python3"
  },
  "language_info": {
   "codemirror_mode": {
    "name": "ipython",
    "version": 3
   },
   "file_extension": ".py",
   "mimetype": "text/x-python",
   "name": "python",
   "nbconvert_exporter": "python",
   "pygments_lexer": "ipython3",
   "version": "3.9.12"
  },
  "orig_nbformat": 4,
  "vscode": {
   "interpreter": {
    "hash": "d352f530d35ba9a8cbd74dc54ae14fe97a35856bed16a2f3b615ca61b68e7fcb"
   }
  }
 },
 "nbformat": 4,
 "nbformat_minor": 2
}
