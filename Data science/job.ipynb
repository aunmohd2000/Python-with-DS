{
 "cells": [
  {
   "cell_type": "code",
   "execution_count": 1,
   "metadata": {},
   "outputs": [],
   "source": [
    "import requests               \n",
    "from bs4 import BeautifulSoup\n",
    "def get_soup(url):\n",
    "    page = requests.get(url)\n",
    "    return BeautifulSoup(page.text)\n",
    "soup = get_soup(\"https://www.python.org/jobs/\")"
   ]
  },
  {
   "cell_type": "code",
   "execution_count": 2,
   "metadata": {},
   "outputs": [
    {
     "name": "stdout",
     "output_type": "stream",
     "text": [
      "33\n"
     ]
    }
   ],
   "source": [
    "\n",
    "target = soup.find('div', attrs={'class':'row'})\n",
    "joblist = target.find_all('li')\n",
    "print(len(joblist))"
   ]
  },
  {
   "cell_type": "code",
   "execution_count": 4,
   "metadata": {},
   "outputs": [],
   "source": [
    "data =[]\n",
    "for job in joblist:\n",
    "    company = job.find('h2',attrs={'class':'listing-company'})\n",
    "    jobtype = job.find('span',attrs={'class':'listing-job-type'})\n",
    "    posted = job.find('span',attrs={'class':'listing-posted'})\n",
    "    category = job.find('span',attrs={'class':'listing-company-category'})\n",
    "    \n",
    "    if company and jobtype and posted and category:\n",
    "        #print('--> HEADLINES', '__'*40)\n",
    "        #print(title.text)\n",
    "        #print(content.text.strip())\n",
    "        #print(details.text.strip())\n",
    "        data.append(\n",
    "            {\n",
    "                'title':company.text.strip(),\n",
    "                'details':jobtype.text.strip(),\n",
    "                'content':posted.text.strip(),\n",
    "                'category':category.text.strip()\n",
    "            }\n",
    "        )"
   ]
  },
  {
   "cell_type": "code",
   "execution_count": 5,
   "metadata": {},
   "outputs": [
    {
     "data": {
      "text/plain": [
       "[{'title': 'New\\nSenior Python Developer\\n\\t\\t    MSD\\n                \\nPrague, Czechia',\n",
       "  'details': 'Back end, Cloud, Integration, Lead, Operations, Systems, SQL, Bash, DevOps and more',\n",
       "  'content': 'Posted: 09 September 2022',\n",
       "  'category': 'Developer / Engineer'},\n",
       " {'title': 'New\\nStaff Python Backend Engineer\\n\\t\\t    Reef Technologies\\n                \\nWarsaw (fully remote), Poland',\n",
       "  'details': 'Back end',\n",
       "  'content': 'Posted: 09 September 2022',\n",
       "  'category': 'Developer / Engineer'},\n",
       " {'title': 'New\\nSoftware Engineer\\n\\t\\t    Utah State University\\n                \\nLogan, Utah, USA',\n",
       "  'details': 'Back end, Cloud, Database, Integration, Web',\n",
       "  'content': 'Posted: 08 September 2022',\n",
       "  'category': 'Developer / Engineer'},\n",
       " {'title': 'New\\nSenior Python Engineer, remote, Europe/US (x/f/m)\\n\\t\\t    Transporeon\\n                \\nRemote, US, Germany, Poland, USA, France, Italy, Spain, Netherlands, UK, Austria, Denmark, Sweden,  ...',\n",
       "  'details': 'Back end, Cloud, Database, Integration, Lead, Systems, Testing, Web',\n",
       "  'content': 'Posted: 08 September 2022',\n",
       "  'category': 'Developer / Engineer'},\n",
       " {'title': 'New\\nLead SRE Engineer\\n\\t\\t    Livepeer\\n                \\nBrooklyn, US',\n",
       "  'details': 'Lead, Systems, PowerShell, Python, Golang',\n",
       "  'content': 'Posted: 07 September 2022',\n",
       "  'category': 'Developer / Engineer'},\n",
       " {'title': 'New\\nLead Software Engineer\\n\\t\\t    GlobalLogic UK&I\\n                \\nLondon, UK',\n",
       "  'details': 'Cloud, Python, AWS, API',\n",
       "  'content': 'Posted: 07 September 2022',\n",
       "  'category': 'Developer / Engineer'},\n",
       " {'title': 'New\\nSenior Python Developer (Remote)\\n\\t\\t    nineDots\\n                \\nDublin, Ireland',\n",
       "  'details': 'Back end, Big Data, Cloud, Systems, Python, AWS, Networking, Golang',\n",
       "  'content': 'Posted: 06 September 2022',\n",
       "  'category': 'Developer / Engineer'},\n",
       " {'title': 'New\\nMachine Learning Engineer\\n\\t\\t    Shift5\\n                \\nremote, USA',\n",
       "  'details': 'Big Data, Machine Learning',\n",
       "  'content': 'Posted: 05 September 2022',\n",
       "  'category': 'Researcher / Scientist'},\n",
       " {'title': 'New\\nAI Consultant (f/m/d)\\n\\t\\t    1&1 AG\\n                \\nKarlsruhe, Germany',\n",
       "  'details': 'Machine Learning',\n",
       "  'content': 'Posted: 05 September 2022',\n",
       "  'category': 'Developer / Engineer'},\n",
       " {'title': 'New\\nCloud Automation Engineer (f/m/d)\\n\\t\\t    IONOS SE\\n                \\nBerlin, Germany',\n",
       "  'details': 'Cloud, Systems',\n",
       "  'content': 'Posted: 05 September 2022',\n",
       "  'category': 'Developer / Engineer'},\n",
       " {'title': 'New\\nBackend Software Engineer\\n\\t\\t    Kintsugi\\n                \\nRemote, USA',\n",
       "  'details': 'Back end, PostgreSQL, Python, FastAPI, Flask, PyTorch, GitLab',\n",
       "  'content': 'Posted: 02 September 2022',\n",
       "  'category': 'Developer / Engineer'},\n",
       " {'title': 'New\\nQuality Assurance Lead Engineer – Flight Software\\n\\t\\t    E-Space\\n                \\nLos Gatos, CA, United States',\n",
       "  'details': 'Integration, Lead, Testing',\n",
       "  'content': 'Posted: 01 September 2022',\n",
       "  'category': 'Developer / Engineer'},\n",
       " {'title': 'New\\nPython Developer\\n\\t\\t    Customertimes\\n                \\nBrazil, Latinoamerica, Brazil',\n",
       "  'details': 'Back end, Cloud, Integration, Web, PostgreSQL, Flask',\n",
       "  'content': 'Posted: 01 September 2022',\n",
       "  'category': 'Developer / Engineer'},\n",
       " {'title': 'New\\nSoftware Developer (f/m/d)\\n\\t\\t    1&1 Mail & Media Applications SE\\n                \\nKarlsruhe, Germany',\n",
       "  'details': 'Big Data, Cloud, Database, Machine Learning, Web, Kubernetes, S3, Spark',\n",
       "  'content': 'Posted: 01 September 2022',\n",
       "  'category': 'Developer / Engineer'},\n",
       " {'title': 'New\\nSenior Software Engineer (Python)\\n\\t\\t    Zuar, Inc.\\n                \\nAustin, TX, USA',\n",
       "  'details': 'Back end, Database, Integration, Lead, Systems, Testing, Web',\n",
       "  'content': 'Posted: 01 September 2022',\n",
       "  'category': 'Developer / Engineer'},\n",
       " {'title': 'New\\nPLOTLY DASH DEVELOPER\\n\\t\\t    Revenue.AI\\n                \\nRemote, Europe, Europe',\n",
       "  'details': 'Back end, Image Processing, Integration',\n",
       "  'content': 'Posted: 01 September 2022',\n",
       "  'category': 'Developer / Engineer'},\n",
       " {'title': 'New\\nSENIOR PYTHON DEVELOPER\\n\\t\\t    Revenue.AI\\n                \\nRemote, Europe, Europe',\n",
       "  'details': 'Back end, Image Processing, Integration, Machine Learning',\n",
       "  'content': 'Posted: 01 September 2022',\n",
       "  'category': 'Developer / Engineer'},\n",
       " {'title': 'New\\nPrincipal Engineering - Data & AI/ML\\n\\t\\t    UKG (Ultimate Kronos Group)\\n                \\nLowell, Massachusetts, United States',\n",
       "  'details': 'Big Data, Cloud, Machine Learning',\n",
       "  'content': 'Posted: 31 August 2022',\n",
       "  'category': 'Developer / Engineer'},\n",
       " {'title': 'New\\nBackend Developer\\n\\t\\t    Be Zen\\n                \\nRemote, Remote, India',\n",
       "  'details': 'Back end',\n",
       "  'content': 'Posted: 30 August 2022',\n",
       "  'category': 'Developer / Engineer'},\n",
       " {'title': 'New\\nAI Consultant (m/w/d)\\n\\t\\t    1&1 AG\\n                \\nKarlsruhe, Germany',\n",
       "  'details': 'Machine Learning',\n",
       "  'content': 'Posted: 30 August 2022',\n",
       "  'category': 'Developer / Engineer'},\n",
       " {'title': 'New\\nCloud Automation Engineer (f/m/d)\\n\\t\\t    IONOS SE\\n                \\nBerlin, Germany',\n",
       "  'details': 'Cloud, Systems',\n",
       "  'content': 'Posted: 30 August 2022',\n",
       "  'category': 'Developer / Engineer'},\n",
       " {'title': 'New\\nFull Stack Python Developer (part-time)\\n\\t\\t    Fourth Estate\\n                \\nWashington, District of Columbia, United States',\n",
       "  'details': 'Back end, Front end, Lead, Flask, Pyton-Eve, MongoDB, AngularJS, React, Celery, RabbitMQ, Github, Nginx, Docker',\n",
       "  'content': 'Posted: 28 August 2022',\n",
       "  'category': 'Developer / Engineer'},\n",
       " {'title': 'New\\nSenior Python Programmer\\n\\t\\t    The University of Texas at Austin\\n                \\nAustin, Texas, USA',\n",
       "  'details': 'Integration, Lead, Management, Systems, Testing, Text Processing, Web',\n",
       "  'content': 'Posted: 26 August 2022',\n",
       "  'category': 'Developer / Engineer'},\n",
       " {'title': 'New\\nWeb Developer\\n\\t\\t    SideFX\\n                \\nToronto, Ontario, Canada',\n",
       "  'details': 'Back end, Front end',\n",
       "  'content': 'Posted: 26 August 2022',\n",
       "  'category': 'Developer / Engineer'},\n",
       " {'title': 'New\\nPython  Developer (Django)\\n\\t\\t    Tech Opportunity\\n                \\nAndheri East. Mumbai, Maharashtra, India',\n",
       "  'details': 'Back end, Python, Django',\n",
       "  'content': 'Posted: 26 August 2022',\n",
       "  'category': 'Developer / Engineer'}]"
      ]
     },
     "execution_count": 5,
     "metadata": {},
     "output_type": "execute_result"
    }
   ],
   "source": [
    "data\n"
   ]
  },
  {
   "cell_type": "code",
   "execution_count": null,
   "metadata": {},
   "outputs": [],
   "source": [
    "import pandas as pd\n",
    "pd.DataFrame(data).to_csv('jobdetails.csv')"
   ]
  },
  {
   "cell_type": "code",
   "execution_count": null,
   "metadata": {},
   "outputs": [],
   "source": []
  },
  {
   "cell_type": "code",
   "execution_count": null,
   "metadata": {},
   "outputs": [],
   "source": []
  }
 ],
 "metadata": {
  "kernelspec": {
   "display_name": "Python 3.9.12 ('base')",
   "language": "python",
   "name": "python3"
  },
  "language_info": {
   "codemirror_mode": {
    "name": "ipython",
    "version": 3
   },
   "file_extension": ".py",
   "mimetype": "text/x-python",
   "name": "python",
   "nbconvert_exporter": "python",
   "pygments_lexer": "ipython3",
   "version": "3.9.12"
  },
  "orig_nbformat": 4,
  "vscode": {
   "interpreter": {
    "hash": "d352f530d35ba9a8cbd74dc54ae14fe97a35856bed16a2f3b615ca61b68e7fcb"
   }
  }
 },
 "nbformat": 4,
 "nbformat_minor": 2
}
