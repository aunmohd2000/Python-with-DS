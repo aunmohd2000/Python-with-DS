{
 "cells": [
  {
   "cell_type": "code",
   "execution_count": 1,
   "metadata": {},
   "outputs": [],
   "source": [
    "import requests\n",
    "from bs4 import BeautifulSoup"
   ]
  },
  {
   "cell_type": "code",
   "execution_count": 2,
   "metadata": {},
   "outputs": [],
   "source": [
    "def get_soup(url):\n",
    "    page=requests.get(url)\n",
    "    return BeautifulSoup(page.text)"
   ]
  },
  {
   "cell_type": "code",
   "execution_count": 3,
   "metadata": {},
   "outputs": [],
   "source": [
    "soup = get_soup(\"https://www.ndtv.com/latest\")"
   ]
  },
  {
   "cell_type": "code",
   "execution_count": 4,
   "metadata": {},
   "outputs": [],
   "source": [
    "target = soup.find('div',attrs={'class':'lisingNews'})"
   ]
  },
  {
   "cell_type": "code",
   "execution_count": 5,
   "metadata": {},
   "outputs": [
    {
     "name": "stdout",
     "output_type": "stream",
     "text": [
      "17\n"
     ]
    }
   ],
   "source": [
    "newslist = target.find_all('div', attrs={'class':'news_Itm'})\n",
    "print(len(newslist))"
   ]
  },
  {
   "cell_type": "code",
   "execution_count": 6,
   "metadata": {},
   "outputs": [],
   "source": [
    "data=[]\n",
    "for news in newslist:\n",
    "    title = news.find('h2',attrs={'class':'newsHdng'})\n",
    "    details = news.find('span',attrs={'class':'posted-by'})\n",
    "    content = news.find('p',attrs={'class':'newsCont'})\n",
    "    if title and details and content:\n",
    "        #print('--> HEADLINES','__'*40)\n",
    "        #print(title.text)\n",
    "        #print(content.text.strip())\n",
    "        #print(details.text.strip())\n",
    "        data.append({\n",
    "            'title':title.text.strip(),\n",
    "            'details':details.text.strip(),\n",
    "            'content':content.text.strip()\n",
    "        }\n",
    "        )\n"
   ]
  },
  {
   "cell_type": "code",
   "execution_count": 7,
   "metadata": {},
   "outputs": [
    {
     "data": {
      "text/plain": [
       "[{'title': 'India Women vs England Women: Ordinary India Lose By Nine Wickets In First T20I',\n",
       "  'details': 'Press Trust of India   | Sunday September 11, 2022',\n",
       "  'content': \"The Indian women's cricket team failed to click with both the bat and ball, proving to be a no match against a dominant England side in a nine-wicket drubbing in the first T20 Internationals.\"},\n",
       " {'title': 'How Anushka Spent Her Saturday With Her Daughter Vamika In London. See Post',\n",
       "  'details': 'Written by Niharika Sanjeeiv  | Sunday September 11, 2022, New Delhi',\n",
       "  'content': 'Anushka Sharma is shooting for Chakda Xpress in London'},\n",
       " {'title': 'Watch: Kane Williamson-Led New Zealand Gives Aaron Finch Guard Of Honour In His Final ODI',\n",
       "  'details': 'NDTV Sports Desk   | Sunday September 11, 2022',\n",
       "  'content': 'Kane Williamson-led Kiwis decided to give Australia skipper Aaron Finch a \"guard of honour\" as the right-handed batter walked out to bat in his final ODI for the last time.'},\n",
       " {'title': 'Reliance Acquires Shubhalakshmi Polyesters For Rs 1,592 Crore',\n",
       "  'details': 'Press Trust of India   | Sunday September 11, 2022, New Delhi',\n",
       "  'content': \"Billionaire Mukesh Ambani's Reliance Industries Ltd has acquired polyester chips and yarn manufacturer Shubhalakshmi Polyesters Ltd for Rs 1,592 crore, the company said in a stock exchange filing.\"},\n",
       " {'title': 'IIT Bombay Announces JEE Advanced 2022 Result',\n",
       "  'details': 'Edited by Arnab Mitra  | Sunday September 11, 2022',\n",
       "  'content': 'JEE Advanced 2022 Result: The JEE Advanced 2022 result is available on the official website- jeeadv.ac.in'},\n",
       " {'title': 'Forex Reserves Dip By $7.94 Billion; Hit The Lowest Level In 23 Months',\n",
       "  'details': 'Asian News International   | Sunday September 11, 2022, Mumbai (Maharashtra)',\n",
       "  'content': \"India's foreign exchange (forex) reserves slumped by $7.941 billion to $553.105 billion for the week ended September 2, the lowest level in almost two years, the Reserve Bank of India (RBI) data showed.\"},\n",
       " {'title': 'US Open: \"No Regrets\" As Ons Jabeur Targets World Top Spot',\n",
       "  'details': 'Agence France-Presse   | Sunday September 11, 2022',\n",
       "  'content': 'Ons Jabeur insisted she had \"no regrets\" after losing to Iga Swiatek in the US Open final as she targeted the Pole\\'s world number one ranking next year.'},\n",
       " {'title': 'IIT Bombay Releases JEE Advanced 2022 Final Answer Key',\n",
       "  'details': 'Edited by Arnab Mitra  | Sunday September 11, 2022',\n",
       "  'content': 'JEE Advanced 2022: The candidates can download the final answer key on the official website- jeeadv.ac.in'},\n",
       " {'title': 'India Has 100 Unicorns With A Value At $250 Billion: Nirmala Sitharaman',\n",
       "  'details': 'Press Trust of India   | Sunday September 11, 2022, Chennai',\n",
       "  'content': 'India was home for over one hundred unicorns with a total value of USD 250 billion which have managed to raise over USD 63 billion in the last few years, Union Finance and Corporate Affairs Minister Nirmala Sitharaman said here on Saturday.'},\n",
       " {'title': 'Australia vs New Zealand, 3rd ODI Live Score Updates: Trent Boult Removes Josh Inglis Early, Australia 1 Down',\n",
       "  'details': 'NDTV Sports Desk   | Sunday September 11, 2022',\n",
       "  'content': 'Australia vs New Zealand, 3rd ODI Live: Eyes on Aaron Finch as he plays his final ODI'},\n",
       " {'title': 'Real Madrid vs Mallorca, La Liga: When And Where To Watch Live Telecast, Live Streaming',\n",
       "  'details': 'NDTV Sports Desk   | Sunday September 11, 2022',\n",
       "  'content': 'Real Madrid will be hosting Mallorca on Sunday in the ongoing La Liga 2022-23 season at Santiago Bernabeu and they will look to reclaim the top spot in the standings.'},\n",
       " {'title': 'JEE Advanced 2022 Result Today; Know Last Year’s Cut-Off',\n",
       "  'details': 'Written by Adarsh Srivastava  | Sunday September 11, 2022',\n",
       "  'content': 'JEE Advanced 2022: Last year the JEE Advanced cut-off for Common rank list (CRL) was 63 marks while for the General-Economic weaker section (GEN-EWS) the cut-off marks was 56'},\n",
       " {'title': \"Carlos Alcaraz vs Casper Ruud, US Open Men's Singles Final: When And Where To Watch Live Telecast, Live Streaming\",\n",
       "  'details': 'NDTV Sports Desk   | Sunday September 11, 2022',\n",
       "  'content': 'US Open Final: Carlos Alcaraz and Casper Ruud will battle it out for the US Open title and the world number one ranking'},\n",
       " {'title': 'Mastermind Of China-Linked Shell Companies Arrested While Fleeing India',\n",
       "  'details': 'Asian News International   | Sunday September 11, 2022, New Delhi',\n",
       "  'content': 'The government has arrested one individual named Dortse having links with China and is responsible for the whole racket of incorporating a large number of shell companies in India and appointing dummy Directors on their Boards.'},\n",
       " {'title': 'Ex Minister Krishnam Raju, Uncle Of Baahubali Star Prabhas, Dies At 83',\n",
       "  'details': 'Press Trust of India   | Sunday September 11, 2022, Hyderabad',\n",
       "  'content': 'Former Union Minister and veteran actor Uppalapati Krishnam Raju died this morningwhile undergoing treatment at a private hospital in Hyderabad, hospital sources said.'}]"
      ]
     },
     "execution_count": 7,
     "metadata": {},
     "output_type": "execute_result"
    }
   ],
   "source": [
    "data"
   ]
  },
  {
   "cell_type": "code",
   "execution_count": 8,
   "metadata": {},
   "outputs": [],
   "source": [
    "import pandas as pd"
   ]
  },
  {
   "cell_type": "code",
   "execution_count": null,
   "metadata": {},
   "outputs": [],
   "source": [
    "pd.DataFrame(data).to_csv('headlines.csv')"
   ]
  }
 ],
 "metadata": {
  "kernelspec": {
   "display_name": "Python 3.9.12 ('base')",
   "language": "python",
   "name": "python3"
  },
  "language_info": {
   "codemirror_mode": {
    "name": "ipython",
    "version": 3
   },
   "file_extension": ".py",
   "mimetype": "text/x-python",
   "name": "python",
   "nbconvert_exporter": "python",
   "pygments_lexer": "ipython3",
   "version": "3.9.12"
  },
  "orig_nbformat": 4,
  "vscode": {
   "interpreter": {
    "hash": "d352f530d35ba9a8cbd74dc54ae14fe97a35856bed16a2f3b615ca61b68e7fcb"
   }
  }
 },
 "nbformat": 4,
 "nbformat_minor": 2
}
