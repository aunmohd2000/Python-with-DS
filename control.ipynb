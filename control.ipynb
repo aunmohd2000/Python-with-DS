{
 "cells": [
  {
   "cell_type": "code",
   "execution_count": 1,
   "metadata": {},
   "outputs": [
    {
     "name": "stdout",
     "output_type": "stream",
     "text": [
      "even\n",
      "the end\n"
     ]
    }
   ],
   "source": [
    "x=1356\n",
    "if x%2==0:\n",
    "    print(\"even\")\n",
    "print(\"the end\")\n"
   ]
  },
  {
   "cell_type": "code",
   "execution_count": 2,
   "metadata": {},
   "outputs": [
    {
     "name": "stdout",
     "output_type": "stream",
     "text": [
      "even\n",
      "the end\n"
     ]
    }
   ],
   "source": [
    "x=1356\n",
    "if x%2==0:\n",
    "    print(\"even\")\n",
    "    print(\"the end\")#indentation\n"
   ]
  },
  {
   "cell_type": "code",
   "execution_count": 5,
   "metadata": {},
   "outputs": [
    {
     "name": "stdout",
     "output_type": "stream",
     "text": [
      "bad input\n"
     ]
    }
   ],
   "source": [
    "num=input('enter a number')\n",
    "if num.isnumeric():\n",
    "    print('well done')\n",
    "    num=int(num)\n",
    "else:\n",
    "    print('bad input')\n",
    "        \n"
   ]
  },
  {
   "cell_type": "code",
   "execution_count": 14,
   "metadata": {},
   "outputs": [
    {
     "name": "stdout",
     "output_type": "stream",
     "text": [
      "welcome to wwe\n"
     ]
    }
   ],
   "source": [
    "username='john cena'\n",
    "email='john@gmail.com'\n",
    "password='qwerty'\n",
    "if username=='john cena':\n",
    "    if email=='john@gmail.com':\n",
    "        if password=='qwerty':\n",
    "            print(\"welcome to wwe\")\n",
    "        else:\n",
    "            print(\"wrong password\")\n",
    "    else:\n",
    "         print(\"wrong email\")\n",
    "else:\n",
    "    print(\"wrong name\") \n",
    "\n",
    "\n",
    "            "
   ]
  },
  {
   "cell_type": "code",
   "execution_count": 17,
   "metadata": {},
   "outputs": [
    {
     "name": "stdout",
     "output_type": "stream",
     "text": [
      "wrong name\n"
     ]
    }
   ],
   "source": [
    "username=input('enter name')\n",
    "email=input('enter email')\n",
    "password=input('password')\n",
    "if username=='john cena':\n",
    "    if email=='john@gmail.com':\n",
    "        if password=='qwerty':\n",
    "            print(\"welcome to wwe\")\n",
    "        else:\n",
    "            print(\"wrong password\")\n",
    "    else:\n",
    "         print(\"wrong email\")\n",
    "else:\n",
    "    print(\"wrong name\") "
   ]
  },
  {
   "cell_type": "code",
   "execution_count": 18,
   "metadata": {},
   "outputs": [
    {
     "name": "stdout",
     "output_type": "stream",
     "text": [
      "wrong name\n"
     ]
    }
   ],
   "source": [
    "username=input('enter name')\n",
    "email=input('enter email')\n",
    "password=input('password')\n",
    "if username !='john cena':\n",
    "    print(\"wrong name\")\n",
    "elif password !=\"qwerty\":\n",
    "    print(\"wrong password\")\n",
    "elif email !='john@gmail.com':\n",
    "    print(\"wrong email\") \n",
    "else:\n",
    "    print('welcome to wwe')\n",
    "    \n",
    "           "
   ]
  },
  {
   "cell_type": "code",
   "execution_count": null,
   "metadata": {},
   "outputs": [],
   "source": [
    "marks=(input('enter marks'))\n",
    "if marks>=90:\n",
    "    print('grade is A')\n",
    "if marks>=80:\n",
    "    print('grade is B')\n",
    "if marks>=70:\n",
    "    print('grade is C')\n",
    "if marks>=60:\n",
    "    print('grade is D')\n",
    "if marks<60:\n",
    "    print('grade is F')\n",
    "\n"
   ]
  },
  {
   "cell_type": "code",
   "execution_count": 25,
   "metadata": {},
   "outputs": [
    {
     "name": "stdout",
     "output_type": "stream",
     "text": [
      "grade is C\n"
     ]
    }
   ],
   "source": [
    "marks=(input('enter marks'))\n",
    "if not marks.isnumeric():\n",
    "   print('invalid')\n",
    "else:\n",
    "     marks=int(marks)\n",
    "if marks>=90:\n",
    "    print('grade is A')\n",
    "elif marks>=80:\n",
    "    print('grade is B')\n",
    "elif marks>=70:\n",
    "    print('grade is C')\n",
    "elif marks>=60:\n",
    "    print('grade is D')\n",
    "elif marks<60:\n",
    "    print('grade is F')\n"
   ]
  },
  {
   "cell_type": "markdown",
   "metadata": {},
   "source": [
    "loops in Python"
   ]
  },
  {
   "cell_type": "code",
   "execution_count": 1,
   "metadata": {},
   "outputs": [
    {
     "data": {
      "text/plain": [
       "9"
      ]
     },
     "execution_count": 1,
     "metadata": {},
     "output_type": "execute_result"
    }
   ],
   "source": [
    "word = \"volkwagen\"\n",
    "len(word)"
   ]
  },
  {
   "cell_type": "markdown",
   "metadata": {},
   "source": [
    "## for var in iteration\n",
    "syntax\n",
    "\n",
    "for <variable> in <sequence>\n",
    "statement1\n",
    "statement2\n",
    ":\n",
    ":\n",
    "statementn"
   ]
  },
  {
   "cell_type": "code",
   "execution_count": 2,
   "metadata": {},
   "outputs": [
    {
     "name": "stdout",
     "output_type": "stream",
     "text": [
      "P\n",
      "Y\n",
      "T\n",
      "H\n",
      "O\n",
      "N\n"
     ]
    }
   ],
   "source": [
    "x=\"PYTHON\"\n",
    "for i in x:\n",
    "    print(i)"
   ]
  },
  {
   "cell_type": "code",
   "execution_count": 7,
   "metadata": {},
   "outputs": [
    {
     "name": "stdout",
     "output_type": "stream",
     "text": [
      "you got point 0\n",
      "you got point 1\n",
      "you got point 2\n",
      "you got point 3\n",
      "you got point 4\n",
      "you got point 5\n"
     ]
    }
   ],
   "source": [
    "for i in range(6): #for loop using range function\n",
    "    print('you got point',i)\n"
   ]
  },
  {
   "cell_type": "code",
   "execution_count": 8,
   "metadata": {},
   "outputs": [
    {
     "name": "stdout",
     "output_type": "stream",
     "text": [
      "level 1\n",
      "level 4\n",
      "level 7\n"
     ]
    }
   ],
   "source": [
    "for num in range(1,10,3):\n",
    "    print('level',num)"
   ]
  },
  {
   "cell_type": "code",
   "execution_count": 9,
   "metadata": {},
   "outputs": [
    {
     "name": "stdout",
     "output_type": "stream",
     "text": [
      "sheep 2\n",
      "sheep 3\n",
      "sheep 4\n",
      "sheep 5\n",
      "sheep 6\n",
      "sheep 7\n",
      "sheep 8\n",
      "sheep 9\n",
      "sheep 10\n"
     ]
    }
   ],
   "source": [
    "for num in range(2,11):\n",
    "    print('sheep',num)"
   ]
  },
  {
   "cell_type": "code",
   "execution_count": 10,
   "metadata": {},
   "outputs": [
    {
     "name": "stdout",
     "output_type": "stream",
     "text": [
      "10\n",
      "9\n",
      "8\n",
      "7\n",
      "6\n"
     ]
    }
   ],
   "source": [
    "for num in range(10,5,-1): # reverse loop\n",
    "    print(num)"
   ]
  },
  {
   "cell_type": "code",
   "execution_count": 11,
   "metadata": {},
   "outputs": [
    {
     "name": "stdout",
     "output_type": "stream",
     "text": [
      "\n",
      "Na\n",
      "NaNa\n",
      "NaNaNa\n",
      "NaNaNaNa\n",
      "NaNaNaNaNa\n",
      "NaNaNaNaNaNa\n",
      "NaNaNaNaNaNaNa\n",
      "NaNaNaNaNaNaNaNa\n",
      "NaNaNaNaNaNaNaNaNa\n"
     ]
    }
   ],
   "source": [
    "for i in range(10): # pattern loop\n",
    "    print(i * 'Na')"
   ]
  },
  {
   "cell_type": "markdown",
   "metadata": {},
   "source": [
    "string settings\n",
    "- 'r'=raw string\n",
    "- 'f'=formatted string\n",
    "- 'b'=byte string\n"
   ]
  },
  {
   "cell_type": "code",
   "execution_count": 5,
   "metadata": {},
   "outputs": [
    {
     "name": "stdout",
     "output_type": "stream",
     "text": [
      "i have count 10 birds on tree\n"
     ]
    }
   ],
   "source": [
    "a=10\n",
    "b='birds'\n",
    "print('i have count',a,b,'on tree')"
   ]
  },
  {
   "cell_type": "code",
   "execution_count": null,
   "metadata": {},
   "outputs": [],
   "source": [
    "print(f'i have count'{a}{b} on tree)"
   ]
  },
  {
   "cell_type": "code",
   "execution_count": 3,
   "metadata": {},
   "outputs": [
    {
     "name": "stdout",
     "output_type": "stream",
     "text": [
      "i have apple\n",
      "i have banana\n",
      "i have lemon\n"
     ]
    }
   ],
   "source": [
    "fruits=['apple','banana','lemon']\n",
    "for item in fruits:\n",
    "    print(f'i have {item}')"
   ]
  },
  {
   "cell_type": "markdown",
   "metadata": {},
   "source": [
    "extra functional setting for loop\n",
    "- enumerate\n",
    "- zip"
   ]
  },
  {
   "cell_type": "code",
   "execution_count": 12,
   "metadata": {},
   "outputs": [
    {
     "name": "stdout",
     "output_type": "stream",
     "text": [
      "apple\n",
      "banana\n",
      "cherry\n",
      "orange\n",
      "kiwi\n",
      "mango\n"
     ]
    }
   ],
   "source": [
    "fruits = ['apple','banana','cherry','orange','kiwi','mango']\n",
    "for fruit in fruits:\n",
    "    print(fruit)"
   ]
  },
  {
   "cell_type": "code",
   "execution_count": 17,
   "metadata": {},
   "outputs": [
    {
     "name": "stdout",
     "output_type": "stream",
     "text": [
      "(0, 'apple')\n",
      "(1, 'banana')\n",
      "(2, 'cherry')\n",
      "(3, 'orange')\n",
      "(4, 'kiwi')\n",
      "(5, 'mango')\n"
     ]
    }
   ],
   "source": [
    "for fruit in enumerate(fruits):\n",
    "    print(fruit)"
   ]
  },
  {
   "cell_type": "code",
   "execution_count": 14,
   "metadata": {},
   "outputs": [
    {
     "name": "stdout",
     "output_type": "stream",
     "text": [
      "9 (0, 'apple')\n",
      "9 (1, 'banana')\n",
      "9 (2, 'cherry')\n",
      "9 (3, 'orange')\n",
      "9 (4, 'kiwi')\n",
      "9 (5, 'mango')\n"
     ]
    }
   ],
   "source": [
    "for fruit in enumerate(fruits):\n",
    "    print(i,fruit)"
   ]
  },
  {
   "cell_type": "code",
   "execution_count": 26,
   "metadata": {},
   "outputs": [
    {
     "name": "stdout",
     "output_type": "stream",
     "text": [
      "0 apple\n",
      "1 banana\n",
      "2 cherry\n",
      "3 orange\n",
      "4 kiwi\n",
      "5 mango\n"
     ]
    }
   ],
   "source": [
    "fruits = ['apple','banana','cherry','orange','kiwi','mango']\n",
    "for i,F in enumerate(fruits):\n",
    "    print(i,F)"
   ]
  },
  {
   "cell_type": "markdown",
   "metadata": {},
   "source": [
    "Zip"
   ]
  },
  {
   "cell_type": "code",
   "execution_count": 20,
   "metadata": {},
   "outputs": [],
   "source": [
    "prices=[10,20,30,40,50,60]\n"
   ]
  },
  {
   "cell_type": "code",
   "execution_count": 23,
   "metadata": {},
   "outputs": [
    {
     "name": "stdout",
     "output_type": "stream",
     "text": [
      "apple => 10\n",
      "banana => 20\n",
      "cherry => 30\n",
      "orange => 40\n",
      "kiwi => 50\n",
      "mango => 60\n"
     ]
    }
   ],
   "source": [
    "for f,p in zip (fruits,prices): # zip takes 2 lists in arguments\n",
    "    print(f,'=>',p)             #stores fruits lists in f,prices list value in p\n"
   ]
  },
  {
   "cell_type": "code",
   "execution_count": 24,
   "metadata": {},
   "outputs": [],
   "source": [
    "qty=['2kg','4kg','1kg','1/2kg','5kg','8kg']\n"
   ]
  },
  {
   "cell_type": "code",
   "execution_count": 25,
   "metadata": {},
   "outputs": [
    {
     "name": "stdout",
     "output_type": "stream",
     "text": [
      "apple => 2kg for 10\n",
      "banana => 4kg for 20\n",
      "cherry => 1kg for 30\n",
      "orange => 1/2kg for 40\n",
      "kiwi => 5kg for 50\n",
      "mango => 8kg for 60\n"
     ]
    }
   ],
   "source": [
    "for f,p,q in zip(fruits,prices,qty):\n",
    "    print(f,'=>',q,'for',p)"
   ]
  },
  {
   "cell_type": "code",
   "execution_count": null,
   "metadata": {},
   "outputs": [],
   "source": []
  }
 ],
 "metadata": {
  "interpreter": {
   "hash": "d352f530d35ba9a8cbd74dc54ae14fe97a35856bed16a2f3b615ca61b68e7fcb"
  },
  "kernelspec": {
   "display_name": "Python 3.9.12 ('base')",
   "language": "python",
   "name": "python3"
  },
  "language_info": {
   "codemirror_mode": {
    "name": "ipython",
    "version": 3
   },
   "file_extension": ".py",
   "mimetype": "text/x-python",
   "name": "python",
   "nbconvert_exporter": "python",
   "pygments_lexer": "ipython3",
   "version": "3.9.12"
  },
  "orig_nbformat": 4
 },
 "nbformat": 4,
 "nbformat_minor": 2
}
