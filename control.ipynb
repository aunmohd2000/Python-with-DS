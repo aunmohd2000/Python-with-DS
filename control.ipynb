{
 "cells": [
  {
   "cell_type": "code",
   "execution_count": 1,
   "metadata": {},
   "outputs": [
    {
     "name": "stdout",
     "output_type": "stream",
     "text": [
      "even\n",
      "the end\n"
     ]
    }
   ],
   "source": [
    "x=1356\n",
    "if x%2==0:\n",
    "    print(\"even\")\n",
    "print(\"the end\")\n"
   ]
  },
  {
   "cell_type": "code",
   "execution_count": 2,
   "metadata": {},
   "outputs": [
    {
     "name": "stdout",
     "output_type": "stream",
     "text": [
      "even\n",
      "the end\n"
     ]
    }
   ],
   "source": [
    "x=1356\n",
    "if x%2==0:\n",
    "    print(\"even\")\n",
    "    print(\"the end\")#indentation\n"
   ]
  },
  {
   "cell_type": "code",
   "execution_count": 5,
   "metadata": {},
   "outputs": [
    {
     "name": "stdout",
     "output_type": "stream",
     "text": [
      "bad input\n"
     ]
    }
   ],
   "source": [
    "num=input('enter a number')\n",
    "if num.isnumeric():\n",
    "    print('well done')\n",
    "    num=int(num)\n",
    "else:\n",
    "    print('bad input')\n",
    "        \n"
   ]
  },
  {
   "cell_type": "code",
   "execution_count": 14,
   "metadata": {},
   "outputs": [
    {
     "name": "stdout",
     "output_type": "stream",
     "text": [
      "welcome to wwe\n"
     ]
    }
   ],
   "source": [
    "username='john cena'\n",
    "email='john@gmail.com'\n",
    "password='qwerty'\n",
    "if username=='john cena':\n",
    "    if email=='john@gmail.com':\n",
    "        if password=='qwerty':\n",
    "            print(\"welcome to wwe\")\n",
    "        else:\n",
    "            print(\"wrong password\")\n",
    "    else:\n",
    "         print(\"wrong email\")\n",
    "else:\n",
    "    print(\"wrong name\") \n",
    "\n",
    "\n",
    "            "
   ]
  },
  {
   "cell_type": "code",
   "execution_count": 17,
   "metadata": {},
   "outputs": [
    {
     "name": "stdout",
     "output_type": "stream",
     "text": [
      "wrong name\n"
     ]
    }
   ],
   "source": [
    "username=input('enter name')\n",
    "email=input('enter email')\n",
    "password=input('password')\n",
    "if username=='john cena':\n",
    "    if email=='john@gmail.com':\n",
    "        if password=='qwerty':\n",
    "            print(\"welcome to wwe\")\n",
    "        else:\n",
    "            print(\"wrong password\")\n",
    "    else:\n",
    "         print(\"wrong email\")\n",
    "else:\n",
    "    print(\"wrong name\") "
   ]
  },
  {
   "cell_type": "code",
   "execution_count": 18,
   "metadata": {},
   "outputs": [
    {
     "name": "stdout",
     "output_type": "stream",
     "text": [
      "wrong name\n"
     ]
    }
   ],
   "source": [
    "username=input('enter name')\n",
    "email=input('enter email')\n",
    "password=input('password')\n",
    "if username !='john cena':\n",
    "    print(\"wrong name\")\n",
    "elif password !=\"qwerty\":\n",
    "    print(\"wrong password\")\n",
    "elif email !='john@gmail.com':\n",
    "    print(\"wrong email\") \n",
    "else:\n",
    "    print('welcome to wwe')\n",
    "    \n",
    "           "
   ]
  },
  {
   "cell_type": "code",
   "execution_count": null,
   "metadata": {},
   "outputs": [],
   "source": [
    "marks=(input('enter marks'))\n",
    "if marks>=90:\n",
    "    print('grade is A')\n",
    "if marks>=80:\n",
    "    print('grade is B')\n",
    "if marks>=70:\n",
    "    print('grade is C')\n",
    "if marks>=60:\n",
    "    print('grade is D')\n",
    "if marks<60:\n",
    "    print('grade is F')\n",
    "\n"
   ]
  },
  {
   "cell_type": "code",
   "execution_count": 25,
   "metadata": {},
   "outputs": [
    {
     "name": "stdout",
     "output_type": "stream",
     "text": [
      "grade is C\n"
     ]
    }
   ],
   "source": [
    "marks=(input('enter marks'))\n",
    "if not marks.isnumeric():\n",
    "   print('invalid')\n",
    "else:\n",
    "     marks=int(marks)\n",
    "if marks>=90:\n",
    "    print('grade is A')\n",
    "elif marks>=80:\n",
    "    print('grade is B')\n",
    "elif marks>=70:\n",
    "    print('grade is C')\n",
    "elif marks>=60:\n",
    "    print('grade is D')\n",
    "elif marks<60:\n",
    "    print('grade is F')\n"
   ]
  },
  {
   "cell_type": "code",
   "execution_count": null,
   "metadata": {},
   "outputs": [],
   "source": []
  }
 ],
 "metadata": {
  "interpreter": {
   "hash": "d352f530d35ba9a8cbd74dc54ae14fe97a35856bed16a2f3b615ca61b68e7fcb"
  },
  "kernelspec": {
   "display_name": "Python 3.9.12 ('base')",
   "language": "python",
   "name": "python3"
  },
  "language_info": {
   "codemirror_mode": {
    "name": "ipython",
    "version": 3
   },
   "file_extension": ".py",
   "mimetype": "text/x-python",
   "name": "python",
   "nbconvert_exporter": "python",
   "pygments_lexer": "ipython3",
   "version": "3.9.12"
  },
  "orig_nbformat": 4
 },
 "nbformat": 4,
 "nbformat_minor": 2
}
