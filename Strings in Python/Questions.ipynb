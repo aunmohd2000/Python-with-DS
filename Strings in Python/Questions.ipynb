{
 "cells": [
  {
   "cell_type": "code",
   "execution_count": 2,
   "metadata": {},
   "outputs": [
    {
     "data": {
      "text/plain": [
       "'Hello world'"
      ]
     },
     "execution_count": 2,
     "metadata": {},
     "output_type": "execute_result"
    }
   ],
   "source": [
    "# Create a string and print it\n",
    "\n",
    "sample_string = \"Hello world\"\n",
    "sample_string"
   ]
  },
  {
   "cell_type": "code",
   "execution_count": 7,
   "metadata": {},
   "outputs": [
    {
     "name": "stdout",
     "output_type": "stream",
     "text": [
      "6\n"
     ]
    }
   ],
   "source": [
    "# Take a string input and print it's length.\n",
    "\n",
    "sample_string2 = input(\"enter string\")\n",
    "print(len(sample_string2))\n"
   ]
  },
  {
   "cell_type": "code",
   "execution_count": 3,
   "metadata": {},
   "outputs": [
    {
     "data": {
      "text/plain": [
       "'great'"
      ]
     },
     "execution_count": 3,
     "metadata": {},
     "output_type": "execute_result"
    }
   ],
   "source": [
    "# Print the last word of the string Python is great using slices.\n",
    "\n",
    "sample_string3 = \"Python is great\"\n",
    "                 #012345678901234\n",
    "sample_string3[10:]\n"
   ]
  },
  {
   "cell_type": "code",
   "execution_count": 5,
   "metadata": {},
   "outputs": [
    {
     "name": "stdout",
     "output_type": "stream",
     "text": [
      "Python\n",
      "\n",
      "is\n",
      "\n",
      "everywhere"
     ]
    }
   ],
   "source": [
    "# Print the each word in different line of string python is everywhere.\n",
    "\n",
    "sample_string4 = \"Python is everywhere\"\n",
    "for i in sample_string4:\n",
    "    if i== ' ':\n",
    "        print('\\n')\n",
    "    else :\n",
    "        print(i,end='')\n"
   ]
  },
  {
   "cell_type": "code",
   "execution_count": 6,
   "metadata": {},
   "outputs": [
    {
     "name": "stdout",
     "output_type": "stream",
     "text": [
      "Python\n",
      "\n",
      "is\n",
      "\n",
      "everywhere"
     ]
    }
   ],
   "source": [
    "# Print the each word in different line of string python is everywhere.\n",
    "\n",
    "sample_string4 = \"Python is everywhere\"\n",
    "for i in sample_string4:\n",
    "    if i== ' ':\n",
    "        print('\\n')\n",
    "    else :\n",
    "        print(i,end='')"
   ]
  },
  {
   "cell_type": "code",
   "execution_count": null,
   "metadata": {},
   "outputs": [],
   "source": []
  }
 ],
 "metadata": {
  "interpreter": {
   "hash": "d352f530d35ba9a8cbd74dc54ae14fe97a35856bed16a2f3b615ca61b68e7fcb"
  },
  "kernelspec": {
   "display_name": "Python 3.9.12 ('base')",
   "language": "python",
   "name": "python3"
  },
  "language_info": {
   "codemirror_mode": {
    "name": "ipython",
    "version": 3
   },
   "file_extension": ".py",
   "mimetype": "text/x-python",
   "name": "python",
   "nbconvert_exporter": "python",
   "pygments_lexer": "ipython3",
   "version": "3.9.12"
  },
  "orig_nbformat": 4
 },
 "nbformat": 4,
 "nbformat_minor": 2
}
