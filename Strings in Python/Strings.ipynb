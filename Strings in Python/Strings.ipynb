{
 "cells": [
  {
   "cell_type": "markdown",
   "metadata": {},
   "source": [
    "# Concatenation"
   ]
  },
  {
   "cell_type": "code",
   "execution_count": 2,
   "metadata": {},
   "outputs": [
    {
     "name": "stdout",
     "output_type": "stream",
     "text": [
      "applejuice\n",
      "applejuice\n"
     ]
    }
   ],
   "source": [
    "a='apple'\n",
    "b='juice'\n",
    "ab=a+b\n",
    "print(ab)\n",
    "print(a+b)\n"
   ]
  },
  {
   "cell_type": "code",
   "execution_count": 1,
   "metadata": {},
   "outputs": [
    {
     "name": "stdout",
     "output_type": "stream",
     "text": [
      "thisisamazing\n",
      "this amazing\n"
     ]
    }
   ],
   "source": [
    "w1='this'\n",
    "w2='is'\n",
    "w3='amazing'\n",
    "msg=w1+w2+w3\n",
    "print(msg)\n",
    "\n",
    "msg=w1+' '+w3\n",
    "print(msg)"
   ]
  },
  {
   "cell_type": "code",
   "execution_count": null,
   "metadata": {},
   "outputs": [],
   "source": []
  },
  {
   "cell_type": "markdown",
   "metadata": {},
   "source": [
    "# Duplicating"
   ]
  },
  {
   "cell_type": "code",
   "execution_count": 3,
   "metadata": {},
   "outputs": [
    {
     "name": "stdout",
     "output_type": "stream",
     "text": [
      "hihihi\n"
     ]
    }
   ],
   "source": [
    "word='hi'\n",
    "print(word*3)\n"
   ]
  },
  {
   "cell_type": "markdown",
   "metadata": {},
   "source": [
    "# Pattern Printing"
   ]
  },
  {
   "cell_type": "code",
   "execution_count": 5,
   "metadata": {},
   "outputs": [
    {
     "name": "stdout",
     "output_type": "stream",
     "text": [
      "*\n",
      "**\n",
      "***\n",
      "****\n",
      "*****\n"
     ]
    }
   ],
   "source": [
    "for i in range(1,6):\n",
    "    print(i* \"*\")\n"
   ]
  },
  {
   "cell_type": "code",
   "execution_count": 7,
   "metadata": {},
   "outputs": [
    {
     "name": "stdout",
     "output_type": "stream",
     "text": [
      "++++++\n",
      "+++++\n",
      "++++\n",
      "+++\n",
      "++\n",
      "+\n"
     ]
    }
   ],
   "source": [
    "for i in range(6,0,-1):\n",
    "    print(i* '+')\n"
   ]
  },
  {
   "cell_type": "markdown",
   "metadata": {},
   "source": [
    "# String Functions"
   ]
  },
  {
   "cell_type": "code",
   "execution_count": 8,
   "metadata": {},
   "outputs": [],
   "source": [
    "name='alex mason'\n",
    "age=50\n",
    "items=['apple','banana','cherry']"
   ]
  },
  {
   "cell_type": "markdown",
   "metadata": {},
   "source": [
    "# Formatting Functions"
   ]
  },
  {
   "cell_type": "code",
   "execution_count": 9,
   "metadata": {},
   "outputs": [],
   "source": [
    "msg='This Is A message from VERY imporTANT person'"
   ]
  },
  {
   "cell_type": "code",
   "execution_count": 11,
   "metadata": {},
   "outputs": [
    {
     "name": "stdout",
     "output_type": "stream",
     "text": [
      "THIS IS A MESSAGE FROM VERY IMPORTANT PERSON\n",
      "this is a message from very important person\n",
      "This Is A Message From Very Important Person\n",
      "This is a message from very important person\n",
      "this is a message from very important person\n",
      "tHIS iS a MESSAGE FROM very IMPORtant PERSON\n",
      "This Is A message from VERY imporTANT person\n"
     ]
    }
   ],
   "source": [
    "print(msg.upper())\n",
    "print(msg.lower())\n",
    "print(msg.title())\n",
    "print(msg.capitalize())\n",
    "print(msg.casefold())\n",
    "print(msg.swapcase())\n",
    "print(msg)"
   ]
  }
 ],
 "metadata": {
  "interpreter": {
   "hash": "d352f530d35ba9a8cbd74dc54ae14fe97a35856bed16a2f3b615ca61b68e7fcb"
  },
  "kernelspec": {
   "display_name": "Python 3.9.12 ('base')",
   "language": "python",
   "name": "python3"
  },
  "language_info": {
   "codemirror_mode": {
    "name": "ipython",
    "version": 3
   },
   "file_extension": ".py",
   "mimetype": "text/x-python",
   "name": "python",
   "nbconvert_exporter": "python",
   "pygments_lexer": "ipython3",
   "version": "3.9.12"
  },
  "orig_nbformat": 4
 },
 "nbformat": 4,
 "nbformat_minor": 2
}
