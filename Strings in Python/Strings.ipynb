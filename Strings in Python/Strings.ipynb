{
 "cells": [
  {
   "cell_type": "markdown",
   "metadata": {},
   "source": [
    "# Concatenation"
   ]
  },
  {
   "cell_type": "code",
   "execution_count": 2,
   "metadata": {},
   "outputs": [
    {
     "name": "stdout",
     "output_type": "stream",
     "text": [
      "applejuice\n",
      "applejuice\n"
     ]
    }
   ],
   "source": [
    "a='apple'\n",
    "b='juice'\n",
    "ab=a+b\n",
    "print(ab)\n",
    "print(a+b)\n"
   ]
  },
  {
   "cell_type": "code",
   "execution_count": 1,
   "metadata": {},
   "outputs": [
    {
     "name": "stdout",
     "output_type": "stream",
     "text": [
      "thisisamazing\n",
      "this amazing\n"
     ]
    }
   ],
   "source": [
    "w1='this'\n",
    "w2='is'\n",
    "w3='amazing'\n",
    "msg=w1+w2+w3\n",
    "print(msg)\n",
    "\n",
    "msg=w1+' '+w3\n",
    "print(msg)"
   ]
  },
  {
   "cell_type": "code",
   "execution_count": null,
   "metadata": {},
   "outputs": [],
   "source": []
  },
  {
   "cell_type": "markdown",
   "metadata": {},
   "source": [
    "# Duplicating"
   ]
  },
  {
   "cell_type": "code",
   "execution_count": 3,
   "metadata": {},
   "outputs": [
    {
     "name": "stdout",
     "output_type": "stream",
     "text": [
      "hihihi\n"
     ]
    }
   ],
   "source": [
    "word='hi'\n",
    "print(word*3)\n"
   ]
  },
  {
   "cell_type": "markdown",
   "metadata": {},
   "source": [
    "# Pattern Printing"
   ]
  },
  {
   "cell_type": "code",
   "execution_count": 5,
   "metadata": {},
   "outputs": [
    {
     "name": "stdout",
     "output_type": "stream",
     "text": [
      "*\n",
      "**\n",
      "***\n",
      "****\n",
      "*****\n"
     ]
    }
   ],
   "source": [
    "for i in range(1,6):\n",
    "    print(i* \"*\")\n"
   ]
  },
  {
   "cell_type": "code",
   "execution_count": 7,
   "metadata": {},
   "outputs": [
    {
     "name": "stdout",
     "output_type": "stream",
     "text": [
      "++++++\n",
      "+++++\n",
      "++++\n",
      "+++\n",
      "++\n",
      "+\n"
     ]
    }
   ],
   "source": [
    "for i in range(6,0,-1):\n",
    "    print(i* '+')\n"
   ]
  },
  {
   "cell_type": "markdown",
   "metadata": {},
   "source": [
    "# String Functions"
   ]
  },
  {
   "cell_type": "code",
   "execution_count": 8,
   "metadata": {},
   "outputs": [],
   "source": [
    "name='alex mason'\n",
    "age=50\n",
    "items=['apple','banana','cherry']"
   ]
  },
  {
   "cell_type": "markdown",
   "metadata": {},
   "source": [
    "# Formatting Functions"
   ]
  },
  {
   "cell_type": "code",
   "execution_count": 9,
   "metadata": {},
   "outputs": [],
   "source": [
    "msg='This Is A message from VERY imporTANT person'"
   ]
  },
  {
   "cell_type": "code",
   "execution_count": 11,
   "metadata": {},
   "outputs": [
    {
     "name": "stdout",
     "output_type": "stream",
     "text": [
      "THIS IS A MESSAGE FROM VERY IMPORTANT PERSON\n",
      "this is a message from very important person\n",
      "This Is A Message From Very Important Person\n",
      "This is a message from very important person\n",
      "this is a message from very important person\n",
      "tHIS iS a MESSAGE FROM very IMPORtant PERSON\n",
      "This Is A message from VERY imporTANT person\n"
     ]
    }
   ],
   "source": [
    "print(msg.upper())\n",
    "print(msg.lower())\n",
    "print(msg.title())\n",
    "print(msg.capitalize())\n",
    "print(msg.casefold())\n",
    "print(msg.swapcase())\n",
    "print(msg)"
   ]
  },
  {
   "cell_type": "markdown",
   "metadata": {},
   "source": [
    "# Count"
   ]
  },
  {
   "cell_type": "code",
   "execution_count": 4,
   "metadata": {},
   "outputs": [],
   "source": [
    "longmsg='''\n",
    "Before downloading, please take a moment to review the Hardware and Software requirements section of the User Handbook.\n",
    "Select one of the packages below and follow the download instructions.\n",
    "Once a Jenkins package has been downloaded, proceed to the Installing Jenkins section of the User Handbook.\n",
    "You may also want to verify the package you downloaded. Learn more about verifying Jenkins downloads.\n",
    "'''"
   ]
  },
  {
   "cell_type": "code",
   "execution_count": 5,
   "metadata": {},
   "outputs": [
    {
     "name": "stdout",
     "output_type": "stream",
     "text": [
      "7\n"
     ]
    }
   ],
   "source": [
    "print(longmsg.count('the'))"
   ]
  },
  {
   "cell_type": "markdown",
   "metadata": {},
   "source": [
    "# Find"
   ]
  },
  {
   "cell_type": "code",
   "execution_count": 6,
   "metadata": {},
   "outputs": [
    {
     "data": {
      "text/plain": [
       "-1"
      ]
     },
     "execution_count": 6,
     "metadata": {},
     "output_type": "execute_result"
    }
   ],
   "source": [
    "longmsg.find('this')\n"
   ]
  },
  {
   "cell_type": "code",
   "execution_count": 7,
   "metadata": {},
   "outputs": [
    {
     "data": {
      "text/plain": [
       "328"
      ]
     },
     "execution_count": 7,
     "metadata": {},
     "output_type": "execute_result"
    }
   ],
   "source": [
    "longmsg.rfind('the') # find from back"
   ]
  },
  {
   "cell_type": "markdown",
   "metadata": {},
   "source": [
    "# search all occurance of substr and display"
   ]
  },
  {
   "cell_type": "code",
   "execution_count": 13,
   "metadata": {},
   "outputs": [
    {
     "name": "stdout",
     "output_type": "stream",
     "text": [
      "52\n",
      "102\n",
      "135\n",
      "165\n",
      "247\n",
      "281\n",
      "328\n"
     ]
    }
   ],
   "source": [
    "q='the'      # searching the word\n",
    "start=0      # starts from zero\n",
    "while True:\n",
    "    pos=longmsg.find(q, start)\n",
    "    start= pos+1\n",
    "    if pos == -1:\n",
    "       break\n",
    "    print(pos)"
   ]
  },
  {
   "cell_type": "markdown",
   "metadata": {},
   "source": [
    "# WAP to find all index of vowels (a e i o u)"
   ]
  },
  {
   "cell_type": "code",
   "execution_count": 15,
   "metadata": {},
   "outputs": [
    {
     "name": "stdout",
     "output_type": "stream",
     "text": [
      "vowel a : 14\n",
      "vowel a : 24\n",
      "vowel a : 29\n",
      "vowel a : 33\n",
      "vowel a : 57\n",
      "vowel a : 61\n",
      "vowel a : 65\n",
      "vowel a : 74\n",
      "vowel a : 112\n",
      "vowel a : 140\n",
      "vowel a : 143\n",
      "vowel a : 154\n",
      "vowel a : 175\n",
      "vowel a : 197\n",
      "vowel a : 208\n",
      "vowel a : 211\n",
      "vowel a : 216\n",
      "vowel a : 230\n",
      "vowel a : 255\n",
      "vowel a : 291\n",
      "vowel a : 305\n",
      "vowel a : 308\n",
      "vowel a : 314\n",
      "vowel a : 333\n",
      "vowel a : 336\n",
      "vowel a : 350\n",
      "vowel a : 358\n",
      "vowel a : 367\n",
      "vowel a : 397\n",
      "vowel e : 2\n",
      "vowel e : 6\n",
      "vowel e : 23\n",
      "vowel e : 26\n",
      "vowel e : 31\n",
      "vowel e : 38\n",
      "vowel e : 46\n",
      "vowel e : 49\n",
      "vowel e : 54\n",
      "vowel e : 63\n",
      "vowel e : 76\n",
      "vowel e : 79\n",
      "vowel e : 84\n",
      "vowel e : 86\n",
      "vowel e : 92\n",
      "vowel e : 104\n",
      "vowel e : 108\n",
      "vowel e : 122\n",
      "vowel e : 124\n",
      "vowel e : 130\n",
      "vowel e : 137\n",
      "vowel e : 145\n",
      "vowel e : 149\n",
      "vowel e : 167\n",
      "vowel e : 195\n",
      "vowel e : 200\n",
      "vowel e : 213\n",
      "vowel e : 220\n",
      "vowel e : 221\n",
      "vowel e : 232\n",
      "vowel e : 240\n",
      "vowel e : 241\n",
      "vowel e : 249\n",
      "vowel e : 263\n",
      "vowel e : 271\n",
      "vowel e : 283\n",
      "vowel e : 287\n",
      "vowel e : 322\n",
      "vowel e : 330\n",
      "vowel e : 338\n",
      "vowel e : 352\n",
      "vowel e : 357\n",
      "vowel e : 365\n",
      "vowel e : 374\n",
      "vowel e : 384\n",
      "vowel i : 16\n",
      "vowel i : 48\n",
      "vowel i : 82\n",
      "vowel i : 95\n",
      "vowel i : 178\n",
      "vowel i : 186\n",
      "vowel i : 203\n",
      "vowel i : 258\n",
      "vowel i : 266\n",
      "vowel i : 274\n",
      "vowel i : 324\n",
      "vowel i : 376\n",
      "vowel i : 379\n",
      "vowel i : 387\n",
      "vowel o : 4\n",
      "vowel o : 9\n",
      "vowel o : 13\n",
      "vowel o : 36\n",
      "vowel o : 43\n",
      "vowel o : 70\n",
      "vowel o : 96\n",
      "vowel o : 99\n",
      "vowel o : 116\n",
      "vowel o : 117\n",
      "vowel o : 128\n",
      "vowel o : 132\n",
      "vowel o : 151\n",
      "vowel o : 159\n",
      "vowel o : 162\n",
      "vowel o : 170\n",
      "vowel o : 174\n",
      "vowel o : 187\n",
      "vowel o : 225\n",
      "vowel o : 229\n",
      "vowel o : 238\n",
      "vowel o : 245\n",
      "vowel o : 275\n",
      "vowel o : 278\n",
      "vowel o : 295\n",
      "vowel o : 296\n",
      "vowel o : 301\n",
      "vowel o : 311\n",
      "vowel o : 319\n",
      "vowel o : 341\n",
      "vowel o : 345\n",
      "vowel o : 349\n",
      "vowel o : 363\n",
      "vowel o : 369\n",
      "vowel o : 392\n",
      "vowel o : 396\n",
      "vowel u : 81\n",
      "vowel u : 183\n",
      "vowel u : 302\n",
      "vowel u : 342\n",
      "vowel u : 370\n"
     ]
    }
   ],
   "source": [
    "for vowel in \"aeiou\":\n",
    "     start=0      # starts from zero\n",
    "     while True:\n",
    "        pos=longmsg.find(vowel, start)\n",
    "        start= pos+1\n",
    "        if pos == -1:\n",
    "          break\n",
    "        print(f\"vowel {vowel} : {pos}\")"
   ]
  },
  {
   "cell_type": "code",
   "execution_count": 22,
   "metadata": {},
   "outputs": [
    {
     "name": "stdout",
     "output_type": "stream",
     "text": [
      "5\n",
      "numeric: True\n",
      "alphabets: False\n",
      "alphanumeric: True\n",
      "only spaces: False\n",
      "only uppercase: False\n",
      "only lowercase: False\n",
      "capitalized: False\n",
      "deciaml number: True\n"
     ]
    }
   ],
   "source": [
    "mgs = input(\"enter anything\")\n",
    "print(mgs)\n",
    "print(\"numeric:\",mgs.isnumeric())\n",
    "print(\"alphabets:\",mgs.isalpha())\n",
    "print(\"alphanumeric:\",mgs.isalnum())\n",
    "print(\"only spaces:\",mgs.isspace())\n",
    "print(\"only uppercase:\",mgs.isupper())\n",
    "print(\"only lowercase:\",mgs.islower())\n",
    "print(\"capitalized:\",mgs.istitle())\n",
    "print(\"deciaml number:\",mgs.isdecimal())"
   ]
  },
  {
   "cell_type": "markdown",
   "metadata": {},
   "source": [
    "# Count the number of vowels in a string"
   ]
  },
  {
   "cell_type": "code",
   "execution_count": 32,
   "metadata": {},
   "outputs": [
    {
     "name": "stdout",
     "output_type": "stream",
     "text": [
      "5\n"
     ]
    }
   ],
   "source": [
    "str=\"there is nothing\"\n",
    "count=0\n",
    "for i in str:\n",
    "    if i in \"aeiou\":\n",
    "     count+=1\n",
    "print(count)"
   ]
  },
  {
   "cell_type": "code",
   "execution_count": 37,
   "metadata": {},
   "outputs": [
    {
     "name": "stdout",
     "output_type": "stream",
     "text": [
      "a: 29\n",
      "e: 45\n",
      "i: 14\n",
      "o: 36\n",
      "u: 5\n"
     ]
    }
   ],
   "source": [
    "vowels = \"aeiou\"\n",
    "for v in vowels:\n",
    "    c =longmsg.count(v)\n",
    "    print(f'{v}: {c}')"
   ]
  },
  {
   "cell_type": "markdown",
   "metadata": {},
   "source": [
    "# Remove all the vowels in a string"
   ]
  },
  {
   "cell_type": "code",
   "execution_count": 39,
   "metadata": {},
   "outputs": [
    {
     "name": "stdout",
     "output_type": "stream",
     "text": [
      "\n",
      "Bfr dwnldng, pls tk  mmnt t rvw th Hrdwr nd Sftwr rqrmnts sctn f th sr Hndbk.\n",
      "Slct n f th pckgs blw nd fllw th dwnld nstrctns.\n",
      "nc  Jnkns pckg hs bn dwnldd, prcd t th nstllng Jnkns sctn f th sr Hndbk.\n",
      "Y my ls wnt t vrfy th pckg y dwnldd. Lrn mr bt vrfyng Jnkns dwnlds.\n",
      "\n"
     ]
    }
   ],
   "source": [
    "mgs=longmsg\n",
    "vowels='aeiouAEIOU'\n",
    "for v in vowels:\n",
    "    mgs=mgs.replace(v,'')\n",
    "print(mgs)\n"
   ]
  },
  {
   "cell_type": "markdown",
   "metadata": {},
   "source": [
    "# WAP to get first word from a string where n is a number given by"
   ]
  },
  {
   "cell_type": "code",
   "execution_count": 42,
   "metadata": {},
   "outputs": [
    {
     "name": "stdout",
     "output_type": "stream",
     "text": [
      "['Before', 'downloading,', 'please', 'take']\n"
     ]
    }
   ],
   "source": [
    "word_count=int(input(\"how many words?\"))\n",
    "words=longmsg.split()[:word_count]\n",
    "print(words)"
   ]
  },
  {
   "cell_type": "markdown",
   "metadata": {},
   "source": [
    "# Display the size of each word in the string & find the largest words\n"
   ]
  },
  {
   "cell_type": "code",
   "execution_count": 47,
   "metadata": {},
   "outputs": [
    {
     "name": "stdout",
     "output_type": "stream",
     "text": [
      "Before 6\n",
      "downloading, 12\n",
      "please 6\n",
      "take 4\n",
      "a 1\n",
      "moment 6\n",
      "to 2\n",
      "review 6\n",
      "the 3\n",
      "Hardware 8\n",
      "and 3\n",
      "Software 8\n",
      "requirements 12\n",
      "section 7\n",
      "of 2\n",
      "the 3\n",
      "User 4\n",
      "Handbook. 9\n",
      "Select 6\n",
      "one 3\n",
      "of 2\n",
      "the 3\n",
      "packages 8\n",
      "below 5\n",
      "and 3\n",
      "follow 6\n",
      "the 3\n",
      "download 8\n",
      "instructions. 13\n",
      "Once 4\n",
      "a 1\n",
      "Jenkins 7\n",
      "package 7\n",
      "has 3\n",
      "been 4\n",
      "downloaded, 11\n",
      "proceed 7\n",
      "to 2\n",
      "the 3\n",
      "Installing 10\n",
      "Jenkins 7\n",
      "section 7\n",
      "of 2\n",
      "the 3\n",
      "User 4\n",
      "Handbook. 9\n",
      "You 3\n",
      "may 3\n",
      "also 4\n",
      "want 4\n",
      "to 2\n",
      "verify 6\n",
      "the 3\n",
      "package 7\n",
      "you 3\n",
      "downloaded. 11\n",
      "Learn 5\n",
      "more 4\n",
      "about 5\n",
      "verifying 9\n",
      "Jenkins 7\n",
      "downloads. 10\n",
      "biggest word is instructions. with 13 characters\n"
     ]
    }
   ],
   "source": [
    "m=0\n",
    "w=0\n",
    "for word in longmsg.split():\n",
    "    print(word,len(word))\n",
    "    if len(word)>m:\n",
    "        m=len(word)\n",
    "        w=word\n",
    "    \n",
    "print(f'biggest word is {w} with {m} characters')"
   ]
  }
 ],
 "metadata": {
  "interpreter": {
   "hash": "d352f530d35ba9a8cbd74dc54ae14fe97a35856bed16a2f3b615ca61b68e7fcb"
  },
  "kernelspec": {
   "display_name": "Python 3.9.12 ('base')",
   "language": "python",
   "name": "python3"
  },
  "language_info": {
   "codemirror_mode": {
    "name": "ipython",
    "version": 3
   },
   "file_extension": ".py",
   "mimetype": "text/x-python",
   "name": "python",
   "nbconvert_exporter": "python",
   "pygments_lexer": "ipython3",
   "version": "3.9.12"
  },
  "orig_nbformat": 4
 },
 "nbformat": 4,
 "nbformat_minor": 2
}
