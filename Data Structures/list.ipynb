{
 "cells": [
  {
   "cell_type": "markdown",
   "metadata": {},
   "source": [
    "# List"
   ]
  },
  {
   "cell_type": "markdown",
   "metadata": {},
   "source": [
    "# Defining list in python"
   ]
  },
  {
   "cell_type": "code",
   "execution_count": 6,
   "metadata": {},
   "outputs": [],
   "source": [
    "# List in String\n",
    "list1=[\"Nikhlesh\",\"aman\",\"Rahul\"]\n",
    "\n",
    "# List of numbers\n",
    "list2=[1,2,3,4,5,6,7,8]\n",
    "\n",
    "# Mixed data list\n",
    "list3=['Ravi',90,98,7]\n",
    "\n",
    "# Nested List\n",
    "list4=[[1,2,3],[3,7,8],[7,5,9]]"
   ]
  },
  {
   "cell_type": "markdown",
   "metadata": {},
   "source": [
    "# Accessing list items in Python"
   ]
  },
  {
   "cell_type": "code",
   "execution_count": 10,
   "metadata": {},
   "outputs": [
    {
     "name": "stdout",
     "output_type": "stream",
     "text": [
      "list1=  [2, 4, 6, 'a', 10, 'b']\n",
      "list1[0]= 2\n",
      "list1[-2]= list[2]\n",
      "list1[-1]= b\n",
      "list1[-3]= a\n"
     ]
    }
   ],
   "source": [
    "list1 = [2,4,6,'a',10,'b']\n",
    "print('list1= ',list1)\n",
    "\n",
    "print('list1[0]=',list1[0])\n",
    "\n",
    "print('list1[-2]=',list[2])\n",
    "\n",
    "print('list1[-1]=',list1[-1])\n",
    "\n",
    "print('list1[-3]=',list1[-3])\n",
    "\n"
   ]
  },
  {
   "cell_type": "markdown",
   "metadata": {},
   "source": [
    "# Getting a slice"
   ]
  },
  {
   "cell_type": "markdown",
   "metadata": {},
   "source": []
  },
  {
   "cell_type": "code",
   "execution_count": 12,
   "metadata": {},
   "outputs": [
    {
     "name": "stdout",
     "output_type": "stream",
     "text": [
      "[40, 50, 60, 70, 80]\n"
     ]
    }
   ],
   "source": [
    "l = [10,20,30,40,50,60,70,80,90,100] # slicing 3 to -3\n",
    "slice1= l[3:-2]\n",
    "print(slice1)"
   ]
  },
  {
   "cell_type": "code",
   "execution_count": 14,
   "metadata": {},
   "outputs": [],
   "source": [
    "Movies = [\n",
    "  \"dhoom\",\n",
    "  \"krish\",\n",
    "  \"koi mil gaya\",\n",
    "  \"harry potter\",\n",
    "  \"chennai express\",\n",
    "]\n",
    "\n",
    "  "
   ]
  },
  {
   "cell_type": "markdown",
   "metadata": {},
   "source": []
  },
  {
   "cell_type": "code",
   "execution_count": 18,
   "metadata": {},
   "outputs": [
    {
     "data": {
      "text/plain": [
       "['dhoom', 'krish']"
      ]
     },
     "execution_count": 18,
     "metadata": {},
     "output_type": "execute_result"
    }
   ],
   "source": [
    "Movies[:2]"
   ]
  },
  {
   "cell_type": "code",
   "execution_count": 20,
   "metadata": {},
   "outputs": [
    {
     "data": {
      "text/plain": [
       "['koi mil gaya']"
      ]
     },
     "execution_count": 20,
     "metadata": {},
     "output_type": "execute_result"
    }
   ],
   "source": [
    "Movies[2:-2]"
   ]
  },
  {
   "cell_type": "markdown",
   "metadata": {},
   "source": [
    "# list has total 11 fn"
   ]
  },
  {
   "cell_type": "markdown",
   "metadata": {},
   "source": [
    "# Append function\n",
    "#  add at last"
   ]
  },
  {
   "cell_type": "code",
   "execution_count": 27,
   "metadata": {},
   "outputs": [
    {
     "data": {
      "text/plain": [
       "['apple', 'banana', 'cherry', 'guava', 'mango', 'dragon fruit']"
      ]
     },
     "execution_count": 27,
     "metadata": {},
     "output_type": "execute_result"
    }
   ],
   "source": [
    "fruits = []\n",
    "fruits.append(\"apple\")\n",
    "fruits.append(\"banana\")\n",
    "fruits.append(\"cherry\")\n",
    "fruits.append(\"guava\")\n",
    "fruits.append(\"mango\")\n",
    "fruits.append(\"dragon fruit\")\n",
    "fruits"
   ]
  },
  {
   "cell_type": "code",
   "execution_count": 23,
   "metadata": {},
   "outputs": [
    {
     "name": "stdout",
     "output_type": "stream",
     "text": [
      "['dhoom', 'krish', 'koi mil gaya', 'harry potter', 'chennai express', 'dhoom4']\n"
     ]
    }
   ],
   "source": [
    "Movies.append('dhoom4')\n",
    "print(Movies)"
   ]
  },
  {
   "cell_type": "code",
   "execution_count": 31,
   "metadata": {},
   "outputs": [
    {
     "data": {
      "text/plain": [
       "['start',\n",
       " 'apple',\n",
       " 'banana',\n",
       " 'cherry',\n",
       " 'guava',\n",
       " 'mango',\n",
       " 'dragon fruit',\n",
       " 'nightblood']"
      ]
     },
     "execution_count": 31,
     "metadata": {},
     "output_type": "execute_result"
    }
   ],
   "source": [
    "# insert Function\n",
    "fruits.insert(0,\"start\")\n",
    "fruits"
   ]
  },
  {
   "cell_type": "code",
   "execution_count": 32,
   "metadata": {},
   "outputs": [],
   "source": [
    "fruits.insert(100,'nightblood')"
   ]
  },
  {
   "cell_type": "markdown",
   "metadata": {},
   "source": [
    "# Extended fn"
   ]
  },
  {
   "cell_type": "code",
   "execution_count": null,
   "metadata": {},
   "outputs": [],
   "source": [
    "dryfruits=['almond','cashew','walnut']\n",
    "fruits"
   ]
  },
  {
   "cell_type": "code",
   "execution_count": 33,
   "metadata": {},
   "outputs": [
    {
     "data": {
      "text/plain": [
       "['apple',\n",
       " 'banana',\n",
       " 'cherry',\n",
       " 'dragon fruit',\n",
       " 'guava',\n",
       " 'mango',\n",
       " 'nightblood',\n",
       " 'nightblood',\n",
       " 'start']"
      ]
     },
     "execution_count": 33,
     "metadata": {},
     "output_type": "execute_result"
    }
   ],
   "source": [
    "# 4 sort function\n",
    "\n",
    "fruits.sort()\n",
    "fruits"
   ]
  },
  {
   "cell_type": "markdown",
   "metadata": {},
   "source": [
    "# sort fn"
   ]
  },
  {
   "cell_type": "code",
   "execution_count": 47,
   "metadata": {},
   "outputs": [
    {
     "data": {
      "text/plain": [
       "['banana', 'cherry', 'guvaa']"
      ]
     },
     "execution_count": 47,
     "metadata": {},
     "output_type": "execute_result"
    }
   ],
   "source": [
    "fruit2=['cherry','guvaa','banana']\n",
    "fruit2.sort()\n",
    "fruit2"
   ]
  },
  {
   "cell_type": "code",
   "execution_count": 38,
   "metadata": {},
   "outputs": [
    {
     "data": {
      "text/plain": [
       "['guvaa', 'cherry', 'banana']"
      ]
     },
     "execution_count": 38,
     "metadata": {},
     "output_type": "execute_result"
    }
   ],
   "source": [
    "fruit2.sort(reverse=True)\n",
    "fruit2"
   ]
  },
  {
   "cell_type": "markdown",
   "metadata": {},
   "source": [
    "# reverse fn"
   ]
  },
  {
   "cell_type": "code",
   "execution_count": 53,
   "metadata": {},
   "outputs": [
    {
     "data": {
      "text/plain": [
       "['guvaa', 'cherry']"
      ]
     },
     "execution_count": 53,
     "metadata": {},
     "output_type": "execute_result"
    }
   ],
   "source": [
    "fruit2.reverse()\n",
    "fruit2"
   ]
  },
  {
   "cell_type": "markdown",
   "metadata": {},
   "source": [
    "# remove fn"
   ]
  },
  {
   "cell_type": "code",
   "execution_count": null,
   "metadata": {},
   "outputs": [],
   "source": [
    "fruit2.remove('banana')\n",
    "fruit2"
   ]
  },
  {
   "cell_type": "code",
   "execution_count": 57,
   "metadata": {},
   "outputs": [
    {
     "name": "stdout",
     "output_type": "stream",
     "text": [
      "[-2, 1, 1, 1, 1, 2, 2, 2, 2, 3, 3, 3]\n"
     ]
    }
   ],
   "source": [
    "x=[1,2,2,2,2,3,3,3,1,1,1,-2]\n",
    "x.sort()\n",
    "print(x)\n"
   ]
  },
  {
   "cell_type": "code",
   "execution_count": 44,
   "metadata": {},
   "outputs": [
    {
     "name": "stdout",
     "output_type": "stream",
     "text": [
      "not found\n",
      "[-2, 1, 1, 1, 1, 2, 2, 2, 2, 3, 3]\n"
     ]
    }
   ],
   "source": [
    "x.remove(4)if 4 in x else print('not found')\n",
    "print(x)"
   ]
  },
  {
   "cell_type": "markdown",
   "metadata": {},
   "source": [
    "# count fn"
   ]
  },
  {
   "cell_type": "code",
   "execution_count": 58,
   "metadata": {},
   "outputs": [
    {
     "data": {
      "text/plain": [
       "3"
      ]
     },
     "execution_count": 58,
     "metadata": {},
     "output_type": "execute_result"
    }
   ],
   "source": [
    "x=[1,2,3,4,5,6,7,8,9,1,1,2,3,6,4,-6]\n",
    "x.count(1)"
   ]
  },
  {
   "cell_type": "markdown",
   "metadata": {},
   "source": [
    "# index function\n",
    "gives a index of item in list"
   ]
  },
  {
   "cell_type": "code",
   "execution_count": 62,
   "metadata": {},
   "outputs": [
    {
     "name": "stdout",
     "output_type": "stream",
     "text": [
      "['dhoom', 'krish', 'koi mil gaya', 'harry potter', 'chennai express', 'dhoom4']\n"
     ]
    },
    {
     "data": {
      "text/plain": [
       "3"
      ]
     },
     "execution_count": 62,
     "metadata": {},
     "output_type": "execute_result"
    }
   ],
   "source": [
    "print(Movies)\n",
    "Movies.index('harry potter')"
   ]
  },
  {
   "cell_type": "code",
   "execution_count": 64,
   "metadata": {},
   "outputs": [
    {
     "data": {
      "text/plain": [
       "['krish', 'koi mil gaya', 'harry potter', 'chennai express', 'dhoom4']"
      ]
     },
     "execution_count": 64,
     "metadata": {},
     "output_type": "execute_result"
    }
   ],
   "source": [
    "Movies[Movies.index('krish'):]"
   ]
  },
  {
   "cell_type": "markdown",
   "metadata": {},
   "source": [
    "# copy fn"
   ]
  },
  {
   "cell_type": "code",
   "execution_count": 65,
   "metadata": {},
   "outputs": [
    {
     "data": {
      "text/plain": [
       "['guvaa', 'cherry']"
      ]
     },
     "execution_count": 65,
     "metadata": {},
     "output_type": "execute_result"
    }
   ],
   "source": [
    "fruit2"
   ]
  },
  {
   "cell_type": "code",
   "execution_count": 66,
   "metadata": {},
   "outputs": [
    {
     "name": "stdout",
     "output_type": "stream",
     "text": [
      "['guvaa', 'cherry']\n"
     ]
    }
   ],
   "source": [
    "dup_fruit2=fruit2.copy()\n",
    "print(dup_fruit2)"
   ]
  },
  {
   "cell_type": "markdown",
   "metadata": {},
   "source": [
    "clear fn"
   ]
  },
  {
   "cell_type": "code",
   "execution_count": 67,
   "metadata": {},
   "outputs": [
    {
     "data": {
      "text/plain": [
       "['start',\n",
       " 'nightblood',\n",
       " 'nightblood',\n",
       " 'mango',\n",
       " 'guava',\n",
       " 'dragon fruit',\n",
       " 'cherry',\n",
       " 'banana',\n",
       " 'apple']"
      ]
     },
     "execution_count": 67,
     "metadata": {},
     "output_type": "execute_result"
    }
   ],
   "source": [
    "fruits"
   ]
  },
  {
   "cell_type": "code",
   "execution_count": 68,
   "metadata": {},
   "outputs": [],
   "source": [
    "fruits.clear()"
   ]
  },
  {
   "cell_type": "code",
   "execution_count": 69,
   "metadata": {},
   "outputs": [
    {
     "data": {
      "text/plain": [
       "[]"
      ]
     },
     "execution_count": 69,
     "metadata": {},
     "output_type": "execute_result"
    }
   ],
   "source": [
    "fruits"
   ]
  },
  {
   "cell_type": "markdown",
   "metadata": {},
   "source": [
    "# pop fn"
   ]
  },
  {
   "cell_type": "code",
   "execution_count": 70,
   "metadata": {},
   "outputs": [
    {
     "data": {
      "text/plain": [
       "['dhoom', 'krish', 'koi mil gaya', 'harry potter', 'chennai express', 'dhoom4']"
      ]
     },
     "execution_count": 70,
     "metadata": {},
     "output_type": "execute_result"
    }
   ],
   "source": [
    "Movies"
   ]
  },
  {
   "cell_type": "code",
   "execution_count": 72,
   "metadata": {},
   "outputs": [
    {
     "data": {
      "text/plain": [
       "['dhoom', 'krish', 'harry potter', 'chennai express']"
      ]
     },
     "execution_count": 72,
     "metadata": {},
     "output_type": "execute_result"
    }
   ],
   "source": [
    "Movies.pop()   # by default it pop last items\n",
    "Movies"
   ]
  },
  {
   "cell_type": "code",
   "execution_count": 73,
   "metadata": {},
   "outputs": [
    {
     "data": {
      "text/plain": [
       "['dhoom', 'krish', 'chennai express']"
      ]
     },
     "execution_count": 73,
     "metadata": {},
     "output_type": "execute_result"
    }
   ],
   "source": [
    "Movies.pop(2)    # pop 2nd item\n",
    "Movies"
   ]
  },
  {
   "cell_type": "markdown",
   "metadata": {},
   "source": [
    "# Questions\n",
    "wap to create a list of 5 values given by user\n"
   ]
  },
  {
   "cell_type": "code",
   "execution_count": 74,
   "metadata": {},
   "outputs": [
    {
     "name": "stdout",
     "output_type": "stream",
     "text": [
      "['banana', 'orange', 'cherry', 'kiwi', 'apple']\n"
     ]
    }
   ],
   "source": [
    "ex = []\n",
    "for i in range(5):\n",
    "    val=input(f'enter value {i+1}')\n",
    "    ex.append(val)\n",
    "print(ex)\n"
   ]
  },
  {
   "cell_type": "markdown",
   "metadata": {},
   "source": [
    "wap to display sum of a list"
   ]
  },
  {
   "cell_type": "code",
   "execution_count": 78,
   "metadata": {},
   "outputs": [
    {
     "name": "stdout",
     "output_type": "stream",
     "text": [
      "23\n",
      "81\n",
      "159\n",
      "171\n",
      "175\n"
     ]
    }
   ],
   "source": [
    "data = [23,58,78,12,4]\n",
    "total = 0\n",
    "for i in data:\n",
    "    total +=i\n",
    "    print(total)"
   ]
  },
  {
   "cell_type": "markdown",
   "metadata": {},
   "source": [
    "wap to calculate mean, median, mode and standard"
   ]
  },
  {
   "cell_type": "code",
   "execution_count": 14,
   "metadata": {},
   "outputs": [
    {
     "name": "stdout",
     "output_type": "stream",
     "text": [
      "4.5\n",
      "1\n",
      "8\n"
     ]
    }
   ],
   "source": [
    "from statistics import median\n",
    "\n",
    "l =[1,2,3,4,5,6,7,8,2,5,4,7]\n",
    "mean = sum(l)/len(l)\n",
    "print(mean)\n",
    "\n",
    "\n",
    "# medium\n",
    "l.sort()\n",
    "if len(l)%2==0:\n",
    "    medium=(l[len(l)//2] + l[len(l)//2- 1])/2\n",
    "else:\n",
    "    median=l[len(l)//2]\n",
    "    print(median)\n",
    "\n",
    "# min\n",
    "print(min(l))\n",
    "\n",
    "# min\n",
    "print(max(l))\n",
    "\n"
   ]
  },
  {
   "cell_type": "markdown",
   "metadata": {},
   "source": [
    "# Q- Add content of two list"
   ]
  },
  {
   "cell_type": "code",
   "execution_count": 15,
   "metadata": {},
   "outputs": [
    {
     "name": "stdout",
     "output_type": "stream",
     "text": [
      "[6, 4, 7, 10]\n"
     ]
    }
   ],
   "source": [
    "a1=[1,2,4,6]\n",
    "b1=[5,2,3,4]\n",
    "n1=[]\n",
    "for i in range(len(a1)):\n",
    "    n1.append(a1[i]+b1[i])\n",
    "print(n1)"
   ]
  },
  {
   "cell_type": "code",
   "execution_count": 16,
   "metadata": {},
   "outputs": [
    {
     "name": "stdout",
     "output_type": "stream",
     "text": [
      "[6, 4, 7, 10]\n"
     ]
    }
   ],
   "source": [
    "a1=[1,2,4,6]\n",
    "b1=[5,2,3,4]\n",
    "n1=[]\n",
    "for i ,j in zip (a1,b1):\n",
    "    n1.append(i+j)\n",
    "print(n1)"
   ]
  },
  {
   "cell_type": "markdown",
   "metadata": {},
   "source": [
    " # create a list where every element is a square of  elemnts from an existing list"
   ]
  },
  {
   "cell_type": "code",
   "execution_count": 21,
   "metadata": {},
   "outputs": [
    {
     "name": "stdout",
     "output_type": "stream",
     "text": [
      "[4, 9, 16, 25]\n"
     ]
    }
   ],
   "source": [
    "a1=[2,3,4,5]\n",
    "b1=[]\n",
    "for i in a1:\n",
    "    b1.append(i**2)\n",
    "print(b1)\n",
    "    \n"
   ]
  },
  {
   "cell_type": "markdown",
   "metadata": {},
   "source": [
    " # create a list where every odd element is a square of  elemnts from an existing list"
   ]
  },
  {
   "cell_type": "code",
   "execution_count": 24,
   "metadata": {},
   "outputs": [
    {
     "name": "stdout",
     "output_type": "stream",
     "text": [
      "[9, 25, 49]\n"
     ]
    }
   ],
   "source": [
    "a1=[2,3,4,5,6,7]\n",
    "b1=[]\n",
    "for i in a1:\n",
    "    if i%2!=0:\n",
    "     b1.append(i**2)\n",
    "print(b1)\n",
    "    \n"
   ]
  },
  {
   "cell_type": "markdown",
   "metadata": {},
   "source": [
    "# create a abbrviation list from an existing list of words"
   ]
  },
  {
   "cell_type": "code",
   "execution_count": 28,
   "metadata": {},
   "outputs": [
    {
     "name": "stdout",
     "output_type": "stream",
     "text": [
      "['uS', 'pm', 'se', 'da', 'sse', 'sda', 'ds', 'de']\n"
     ]
    }
   ],
   "source": [
    "words = ['united States','project manager','software engineer','data analyst','senior software engineer',\n",
    "'senior data analyst','data scientist','data engineer']\n",
    "a=[]\n",
    "for item in words:\n",
    "    items = item.split()\n",
    "    s=''\n",
    "    for i in items:\n",
    "        s+=i[0]\n",
    "    a.append(s)\n",
    "print(a)\n",
    "\n",
    "       \n",
    "    "
   ]
  },
  {
   "cell_type": "code",
   "execution_count": 38,
   "metadata": {},
   "outputs": [
    {
     "name": "stdout",
     "output_type": "stream",
     "text": [
      "2 8 7 box 5 7 pen\n",
      "[2, 8, 7, 5, 7]\n",
      "[8, 512, 343, 125, 343]\n"
     ]
    }
   ],
   "source": [
    "# take a list from user in one line of input and then remove all the non numeric values from the list \n",
    "# then display  the cubes of number from that list.\n",
    "entries = input('enter data separated with space: ')\n",
    "print(entries)\n",
    "numeric_entries=[]\n",
    "for value in entries.split():\n",
    "    if value.isnumeric():\n",
    "        numeric_entries.append(int(value))\n",
    "print( numeric_entries)\n",
    "cube=[i**3 for i in numeric_entries]\n",
    "print(cube)\n"
   ]
  },
  {
   "cell_type": "markdown",
   "metadata": {},
   "source": [
    "# list Comprehension"
   ]
  },
  {
   "cell_type": "code",
   "execution_count": 39,
   "metadata": {},
   "outputs": [
    {
     "name": "stdout",
     "output_type": "stream",
     "text": [
      "[8, 512, 343, 125, 343]\n"
     ]
    }
   ],
   "source": [
    "# it is a way to create a list from existing list \n",
    "# using one line of expression\n",
    "cube=[i**3 for i in numeric_entries]\n",
    "print(cube)\n"
   ]
  },
  {
   "cell_type": "code",
   "execution_count": 40,
   "metadata": {},
   "outputs": [
    {
     "name": "stdout",
     "output_type": "stream",
     "text": [
      "[4, 9, 16, 25, 36, 49]\n"
     ]
    }
   ],
   "source": [
    "d1=[2,3,4,5]\n",
    "e1=[]\n",
    "for i in d1:\n",
    "    e1.append(i**2)\n",
    "print(e1)\n",
    "    "
   ]
  },
  {
   "cell_type": "code",
   "execution_count": 41,
   "metadata": {},
   "outputs": [
    {
     "name": "stdout",
     "output_type": "stream",
     "text": [
      "[4, 9, 16, 25]\n"
     ]
    }
   ],
   "source": [
    "e1=[i**2 for i in d1 ]\n",
    "print(e1)"
   ]
  },
  {
   "cell_type": "code",
   "execution_count": 45,
   "metadata": {},
   "outputs": [
    {
     "name": "stdout",
     "output_type": "stream",
     "text": [
      "1 2 \n"
     ]
    },
    {
     "ename": "NameError",
     "evalue": "name 'values' is not defined",
     "output_type": "error",
     "traceback": [
      "\u001b[1;31m---------------------------------------------------------------------------\u001b[0m",
      "\u001b[1;31mNameError\u001b[0m                                 Traceback (most recent call last)",
      "\u001b[1;32mc:\\Users\\Lenovo\\Desktop\\Python with DS\\Data Structures\\list.ipynb Cell 67'\u001b[0m in \u001b[0;36m<cell line: 3>\u001b[1;34m()\u001b[0m\n\u001b[0;32m      <a href='vscode-notebook-cell:/c%3A/Users/Lenovo/Desktop/Python%20with%20DS/Data%20Structures/list.ipynb#ch0000071?line=0'>1</a>\u001b[0m entries \u001b[39m=\u001b[39m \u001b[39minput\u001b[39m(\u001b[39m'\u001b[39m\u001b[39menter data separated with space: \u001b[39m\u001b[39m'\u001b[39m)\n\u001b[0;32m      <a href='vscode-notebook-cell:/c%3A/Users/Lenovo/Desktop/Python%20with%20DS/Data%20Structures/list.ipynb#ch0000071?line=1'>2</a>\u001b[0m \u001b[39mprint\u001b[39m(entries)\n\u001b[1;32m----> <a href='vscode-notebook-cell:/c%3A/Users/Lenovo/Desktop/Python%20with%20DS/Data%20Structures/list.ipynb#ch0000071?line=2'>3</a>\u001b[0m numeric_entries\u001b[39m=\u001b[39m[\u001b[39mint\u001b[39m(value) \u001b[39mfor\u001b[39;00m value \u001b[39min\u001b[39;00m entries\u001b[39m.\u001b[39msplit() \u001b[39mif\u001b[39;00m  values\u001b[39m.\u001b[39misnumeric()]\n\u001b[0;32m      <a href='vscode-notebook-cell:/c%3A/Users/Lenovo/Desktop/Python%20with%20DS/Data%20Structures/list.ipynb#ch0000071?line=3'>4</a>\u001b[0m \u001b[39mprint\u001b[39m( numeric_entries)\n",
      "\u001b[1;32mc:\\Users\\Lenovo\\Desktop\\Python with DS\\Data Structures\\list.ipynb Cell 67'\u001b[0m in \u001b[0;36m<listcomp>\u001b[1;34m(.0)\u001b[0m\n\u001b[0;32m      <a href='vscode-notebook-cell:/c%3A/Users/Lenovo/Desktop/Python%20with%20DS/Data%20Structures/list.ipynb#ch0000071?line=0'>1</a>\u001b[0m entries \u001b[39m=\u001b[39m \u001b[39minput\u001b[39m(\u001b[39m'\u001b[39m\u001b[39menter data separated with space: \u001b[39m\u001b[39m'\u001b[39m)\n\u001b[0;32m      <a href='vscode-notebook-cell:/c%3A/Users/Lenovo/Desktop/Python%20with%20DS/Data%20Structures/list.ipynb#ch0000071?line=1'>2</a>\u001b[0m \u001b[39mprint\u001b[39m(entries)\n\u001b[1;32m----> <a href='vscode-notebook-cell:/c%3A/Users/Lenovo/Desktop/Python%20with%20DS/Data%20Structures/list.ipynb#ch0000071?line=2'>3</a>\u001b[0m numeric_entries\u001b[39m=\u001b[39m[\u001b[39mint\u001b[39m(value) \u001b[39mfor\u001b[39;00m value \u001b[39min\u001b[39;00m entries\u001b[39m.\u001b[39msplit() \u001b[39mif\u001b[39;00m  values\u001b[39m.\u001b[39misnumeric()]\n\u001b[0;32m      <a href='vscode-notebook-cell:/c%3A/Users/Lenovo/Desktop/Python%20with%20DS/Data%20Structures/list.ipynb#ch0000071?line=3'>4</a>\u001b[0m \u001b[39mprint\u001b[39m( numeric_entries)\n",
      "\u001b[1;31mNameError\u001b[0m: name 'values' is not defined"
     ]
    }
   ],
   "source": [
    "entries = input('enter data separated with space: ')\n",
    "print(entries)\n",
    "numeric_entries=[int(value) for value in entries.split() if  values.isnumeric()]\n",
    "print( numeric_entries)"
   ]
  },
  {
   "cell_type": "code",
   "execution_count": null,
   "metadata": {},
   "outputs": [],
   "source": []
  }
 ],
 "metadata": {
  "interpreter": {
   "hash": "d352f530d35ba9a8cbd74dc54ae14fe97a35856bed16a2f3b615ca61b68e7fcb"
  },
  "kernelspec": {
   "display_name": "Python 3.9.12 ('base')",
   "language": "python",
   "name": "python3"
  },
  "language_info": {
   "codemirror_mode": {
    "name": "ipython",
    "version": 3
   },
   "file_extension": ".py",
   "mimetype": "text/x-python",
   "name": "python",
   "nbconvert_exporter": "python",
   "pygments_lexer": "ipython3",
   "version": "3.9.12"
  },
  "orig_nbformat": 4
 },
 "nbformat": 4,
 "nbformat_minor": 2
}
