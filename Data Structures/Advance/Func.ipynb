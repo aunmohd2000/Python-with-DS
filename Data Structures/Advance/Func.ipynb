{
 "cells": [
  {
   "cell_type": "code",
   "execution_count": 1,
   "metadata": {},
   "outputs": [
    {
     "name": "stdout",
     "output_type": "stream",
     "text": [
      "hi, i am outside any function\n"
     ]
    }
   ],
   "source": [
    "def hello():\n",
    "    print('this is a function')\n",
    "    print('this is not a good function')\n",
    "    print('forget that this function exists')\n",
    "    print('bye!')\n",
    "\n",
    "print('hi, i am outside any function')"
   ]
  },
  {
   "cell_type": "code",
   "execution_count": 2,
   "metadata": {},
   "outputs": [
    {
     "name": "stdout",
     "output_type": "stream",
     "text": [
      "this is a function\n",
      "this is not a good function\n",
      "forget that this function exists\n",
      "bye!\n"
     ]
    }
   ],
   "source": [
    "hello()"
   ]
  },
  {
   "cell_type": "code",
   "execution_count": 4,
   "metadata": {},
   "outputs": [
    {
     "name": "stdout",
     "output_type": "stream",
     "text": [
      "this is a function\n",
      "this is not a good function\n",
      "forget that this function exists\n",
      "bye!\n",
      "this is a function\n",
      "this is not a good function\n",
      "forget that this function exists\n",
      "bye!\n",
      "this is a function\n",
      "this is not a good function\n",
      "forget that this function exists\n",
      "bye!\n"
     ]
    }
   ],
   "source": [
    "for i in range(3):\n",
    "    hello()"
   ]
  },
  {
   "cell_type": "code",
   "execution_count": 5,
   "metadata": {},
   "outputs": [],
   "source": [
    "def area(length, breath):\n",
    "   ans = length * breath\n",
    "   return ans\n"
   ]
  },
  {
   "cell_type": "code",
   "execution_count": 6,
   "metadata": {},
   "outputs": [
    {
     "data": {
      "text/plain": [
       "25"
      ]
     },
     "execution_count": 6,
     "metadata": {},
     "output_type": "execute_result"
    }
   ],
   "source": [
    "area(5,5)\n"
   ]
  },
  {
   "cell_type": "code",
   "execution_count": 7,
   "metadata": {},
   "outputs": [
    {
     "name": "stdout",
     "output_type": "stream",
     "text": [
      "the area is 12\n"
     ]
    }
   ],
   "source": [
    "print('the area is',area(4,3))"
   ]
  },
  {
   "cell_type": "code",
   "execution_count": 9,
   "metadata": {},
   "outputs": [
    {
     "name": "stdout",
     "output_type": "stream",
     "text": [
      "16 20\n"
     ]
    }
   ],
   "source": [
    "a=area(4,4)\n",
    "b=area(4,5)\n",
    "print(a,b)"
   ]
  },
  {
   "cell_type": "code",
   "execution_count": 10,
   "metadata": {},
   "outputs": [
    {
     "name": "stdout",
     "output_type": "stream",
     "text": [
      "190\n"
     ]
    }
   ],
   "source": [
    "big_area = area(5,5) + area(10,15)+15 # fn in expression\n",
    "print(big_area)"
   ]
  },
  {
   "cell_type": "code",
   "execution_count": 16,
   "metadata": {},
   "outputs": [],
   "source": [
    "def fib(start:int, size: int):\n",
    "    \"\"\"\n",
    "    ### this is fibonacci fn\n",
    "    - start: pass a number for the start of fibonacci series\n",
    "    - returns: list of fibonacci series\n",
    "    \"\"\"\n",
    "\n",
    "    out = [start,start+1]  # list with 2 int values\n",
    "    for i in range(size-2):\n",
    "        out.append(out[-1]+out[-2])\n",
    "    return out"
   ]
  },
  {
   "cell_type": "code",
   "execution_count": 17,
   "metadata": {},
   "outputs": [
    {
     "name": "stdout",
     "output_type": "stream",
     "text": [
      "[0, 1, 1, 2, 3, 5, 8, 13, 21, 34, 55, 89, 144, 233, 377, 610, 987, 1597, 2584, 4181, 6765, 10946, 17711, 28657, 46368]\n"
     ]
    }
   ],
   "source": [
    "print(fib(0,25))"
   ]
  },
  {
   "cell_type": "code",
   "execution_count": 26,
   "metadata": {},
   "outputs": [],
   "source": [
    "# create a function to calculate to SI and amout and return them\n",
    "\n",
    "def interest(p,r,t): \n",
    "    si=p*r*t/100\n",
    "    amount=si+p\n",
    "    return si,amount\n"
   ]
  },
  {
   "cell_type": "code",
   "execution_count": 27,
   "metadata": {},
   "outputs": [
    {
     "name": "stdout",
     "output_type": "stream",
     "text": [
      "(5.76, 17.759999999999998)\n"
     ]
    }
   ],
   "source": [
    "print(interest(12,8,6))"
   ]
  },
  {
   "cell_type": "markdown",
   "metadata": {},
   "source": [
    "# importing utils file"
   ]
  },
  {
   "cell_type": "code",
   "execution_count": 1,
   "metadata": {},
   "outputs": [],
   "source": [
    "import utils\n"
   ]
  },
  {
   "cell_type": "code",
   "execution_count": 2,
   "metadata": {},
   "outputs": [],
   "source": [
    "s = \"this is that,this is data, why this is a data\""
   ]
  },
  {
   "cell_type": "code",
   "execution_count": 3,
   "metadata": {},
   "outputs": [
    {
     "name": "stdout",
     "output_type": "stream",
     "text": [
      "s 6\n",
      "h 5\n",
      "w 1\n",
      "  9\n",
      "d 2\n",
      "i 6\n",
      "y 1\n",
      ", 2\n",
      "t 7\n",
      "a 6\n"
     ]
    },
    {
     "data": {
      "text/plain": [
       "{'s': 6,\n",
       " 'h': 5,\n",
       " 'w': 1,\n",
       " ' ': 9,\n",
       " 'd': 2,\n",
       " 'i': 6,\n",
       " 'y': 1,\n",
       " ',': 2,\n",
       " 't': 7,\n",
       " 'a': 6}"
      ]
     },
     "execution_count": 3,
     "metadata": {},
     "output_type": "execute_result"
    }
   ],
   "source": [
    "utils.char_counter(s)"
   ]
  },
  {
   "cell_type": "code",
   "execution_count": 4,
   "metadata": {},
   "outputs": [
    {
     "data": {
      "text/plain": [
       "{'is': 3, 'this': 2, 'data': 1, 'data,': 1, 'why': 1, 'a': 1, 'that,this': 1}"
      ]
     },
     "execution_count": 4,
     "metadata": {},
     "output_type": "execute_result"
    }
   ],
   "source": [
    "utils.word_counter(s)"
   ]
  },
  {
   "cell_type": "code",
   "execution_count": null,
   "metadata": {},
   "outputs": [],
   "source": []
  }
 ],
 "metadata": {
  "interpreter": {
   "hash": "d352f530d35ba9a8cbd74dc54ae14fe97a35856bed16a2f3b615ca61b68e7fcb"
  },
  "kernelspec": {
   "display_name": "Python 3.9.12 ('base')",
   "language": "python",
   "name": "python3"
  },
  "language_info": {
   "codemirror_mode": {
    "name": "ipython",
    "version": 3
   },
   "file_extension": ".py",
   "mimetype": "text/x-python",
   "name": "python",
   "nbconvert_exporter": "python",
   "pygments_lexer": "ipython3",
   "version": "3.9.12"
  },
  "orig_nbformat": 4
 },
 "nbformat": 4,
 "nbformat_minor": 2
}
